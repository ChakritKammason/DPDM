{
  "nbformat": 4,
  "nbformat_minor": 0,
  "metadata": {
    "colab": {
      "name": "Classification_(Decision_Tree).ipynb",
      "provenance": [],
      "authorship_tag": "ABX9TyPREZXPnJ0jZ9EUK/9S7LXX",
      "include_colab_link": true
    },
    "kernelspec": {
      "name": "python3",
      "display_name": "Python 3"
    }
  },
  "cells": [
    {
      "cell_type": "markdown",
      "metadata": {
        "id": "view-in-github",
        "colab_type": "text"
      },
      "source": [
        "<a href=\"https://colab.research.google.com/github/ChakritKammason/DPDM/blob/master/Classification_(Decision_Tree).ipynb\" target=\"_parent\"><img src=\"https://colab.research.google.com/assets/colab-badge.svg\" alt=\"Open In Colab\"/></a>"
      ]
    },
    {
      "cell_type": "markdown",
      "metadata": {
        "id": "qGQA3lQmDZfr"
      },
      "source": [
        "# Load Data"
      ]
    },
    {
      "cell_type": "code",
      "metadata": {
        "id": "-LoGLbxjDWaW"
      },
      "source": [
        "from sklearn import datasets\n",
        "iris_data = datasets.load_iris()\n",
        "X = iris_data['data']\n",
        "y = iris_data['target']"
      ],
      "execution_count": 1,
      "outputs": []
    },
    {
      "cell_type": "markdown",
      "metadata": {
        "id": "qOv6bkgJDfgq"
      },
      "source": [
        "# Decision Tree"
      ]
    },
    {
      "cell_type": "markdown",
      "metadata": {
        "id": "qCDtfREKDiuy"
      },
      "source": [
        "Import"
      ]
    },
    {
      "cell_type": "code",
      "metadata": {
        "id": "UciQ_0BDDeji"
      },
      "source": [
        "from sklearn.tree import DecisionTreeClassifier"
      ],
      "execution_count": 2,
      "outputs": []
    },
    {
      "cell_type": "markdown",
      "metadata": {
        "id": "DVplNscFDoKU"
      },
      "source": [
        "Define "
      ]
    },
    {
      "cell_type": "code",
      "metadata": {
        "id": "rPAFjKcnDmN_"
      },
      "source": [
        "myTree = DecisionTreeClassifier(criterion='entropy',max_depth=2)"
      ],
      "execution_count": 3,
      "outputs": []
    },
    {
      "cell_type": "markdown",
      "metadata": {
        "id": "4cyuWrlmDsBn"
      },
      "source": [
        "Train"
      ]
    },
    {
      "cell_type": "code",
      "metadata": {
        "colab": {
          "base_uri": "https://localhost:8080/"
        },
        "id": "7RNB-eA_Dph1",
        "outputId": "5b6e61fd-77c3-4e31-998d-19225435a8f9"
      },
      "source": [
        "myTree.fit(X[:-2,:],y[:-2])"
      ],
      "execution_count": 4,
      "outputs": [
        {
          "output_type": "execute_result",
          "data": {
            "text/plain": [
              "DecisionTreeClassifier(ccp_alpha=0.0, class_weight=None, criterion='entropy',\n",
              "                       max_depth=2, max_features=None, max_leaf_nodes=None,\n",
              "                       min_impurity_decrease=0.0, min_impurity_split=None,\n",
              "                       min_samples_leaf=1, min_samples_split=2,\n",
              "                       min_weight_fraction_leaf=0.0, presort='deprecated',\n",
              "                       random_state=None, splitter='best')"
            ]
          },
          "metadata": {
            "tags": []
          },
          "execution_count": 4
        }
      ]
    },
    {
      "cell_type": "markdown",
      "metadata": {
        "id": "yE_GClB8DvnZ"
      },
      "source": [
        "Test"
      ]
    },
    {
      "cell_type": "code",
      "metadata": {
        "colab": {
          "base_uri": "https://localhost:8080/"
        },
        "id": "Gyg1d3vTDvSj",
        "outputId": "45a048b8-2318-4575-9bce-9d87b4aa766a"
      },
      "source": [
        "myTree.predict(X[-2:,:])"
      ],
      "execution_count": 5,
      "outputs": [
        {
          "output_type": "execute_result",
          "data": {
            "text/plain": [
              "array([2, 2])"
            ]
          },
          "metadata": {
            "tags": []
          },
          "execution_count": 5
        }
      ]
    },
    {
      "cell_type": "markdown",
      "metadata": {
        "id": "h1_kFk7xDytq"
      },
      "source": [
        "# Draw Tree"
      ]
    },
    {
      "cell_type": "code",
      "metadata": {
        "id": "OI9RDL_MDtLm"
      },
      "source": [
        "from sklearn.tree import plot_tree"
      ],
      "execution_count": 6,
      "outputs": []
    },
    {
      "cell_type": "code",
      "metadata": {
        "colab": {
          "base_uri": "https://localhost:8080/",
          "height": 248
        },
        "id": "o3-BKQOtD4N3",
        "outputId": "ad9dfcf9-1510-4182-a491-666c152ec42d"
      },
      "source": [
        "plot_tree(myTree); #กรอบสี่เหลี่ยมด้านล่างซ้ายมือคือ Yes ขวามือคือ No"
      ],
      "execution_count": 7,
      "outputs": [
        {
          "output_type": "display_data",
          "data": {
            "image/png": "[encoded data removed]",
            "text/plain": [
              "<Figure size 432x288 with 1 Axes>"
            ]
          },
          "metadata": {
            "tags": [],
            "needs_background": "light"
          }
        }
      ]
    },
    {
      "cell_type": "code",
      "metadata": {
        "colab": {
          "base_uri": "https://localhost:8080/"
        },
        "id": "gCyFyB7ZD6D4",
        "outputId": "c3a7df23-9241-46e4-ab6a-7b1b874324f6"
      },
      "source": [
        "X[-2:,:] #ถ้าเอาข้อมูลด้านล่างนี้แถวแรกไปใส่ในกล่องการวิเคราะห์ด้านบน แถวที่ 1 จะได้ว่า 5.4 > 2.45 ดังนั้นบรรทัดที่ 2 ได้กล่องฝั่งขวามือ จากนั้นในบรรทัดที่ 2 ของกล่องขวามือระบุว่า X[3]<=1.75 \n",
        "#แต่แถวที่ 1 X[3]=2.3 ไม่น้อยกว่าหรือเท่ากับ 1.75 ดังนั้นจะได้บรรทัดที่ 3 คือกล่องขวามือ และอ่านค่า value = [0,1,43] หมายความว่า มีคลาส 0 อยู่ 1 คลาส 1 อยู่ 1 และคลาส 2 อยู่ 43"
      ],
      "execution_count": 8,
      "outputs": [
        {
          "output_type": "execute_result",
          "data": {
            "text/plain": [
              "array([[6.2, 3.4, 5.4, 2.3],\n",
              "       [5.9, 3. , 5.1, 1.8]])"
            ]
          },
          "metadata": {
            "tags": []
          },
          "execution_count": 8
        }
      ]
    },
    {
      "cell_type": "code",
      "metadata": {
        "id": "xyNm3s8-D8Si"
      },
      "source": [
        "myTree = DecisionTreeClassifier()#criterion='entropy',max_depth=2"
      ],
      "execution_count": 9,
      "outputs": []
    },
    {
      "cell_type": "code",
      "metadata": {
        "colab": {
          "base_uri": "https://localhost:8080/"
        },
        "id": "BaHpebnvD-LM",
        "outputId": "2a644830-51b3-49bb-859f-04fb1b1ab4e5"
      },
      "source": [
        "myTree.fit(X[:-2,:],y[:-2])"
      ],
      "execution_count": 10,
      "outputs": [
        {
          "output_type": "execute_result",
          "data": {
            "text/plain": [
              "DecisionTreeClassifier(ccp_alpha=0.0, class_weight=None, criterion='gini',\n",
              "                       max_depth=None, max_features=None, max_leaf_nodes=None,\n",
              "                       min_impurity_decrease=0.0, min_impurity_split=None,\n",
              "                       min_samples_leaf=1, min_samples_split=2,\n",
              "                       min_weight_fraction_leaf=0.0, presort='deprecated',\n",
              "                       random_state=None, splitter='best')"
            ]
          },
          "metadata": {
            "tags": []
          },
          "execution_count": 10
        }
      ]
    },
    {
      "cell_type": "code",
      "metadata": {
        "colab": {
          "base_uri": "https://localhost:8080/"
        },
        "id": "L75ypFP0D_jm",
        "outputId": "b5ab41b7-0573-4b72-8b17-a166666370e7"
      },
      "source": [
        "myTree.predict(X[-2:,:])"
      ],
      "execution_count": 12,
      "outputs": [
        {
          "output_type": "execute_result",
          "data": {
            "text/plain": [
              "array([2, 2])"
            ]
          },
          "metadata": {
            "tags": []
          },
          "execution_count": 12
        }
      ]
    },
    {
      "cell_type": "code",
      "metadata": {
        "id": "k16x3XEXEAz_"
      },
      "source": [
        "from sklearn.tree import plot_tree"
      ],
      "execution_count": 13,
      "outputs": []
    },
    {
      "cell_type": "code",
      "metadata": {
        "colab": {
          "base_uri": "https://localhost:8080/",
          "height": 248
        },
        "id": "3IVkTsybEC2s",
        "outputId": "79826f33-e8d0-4673-f692-e9fd3a5e5c52"
      },
      "source": [
        "plot_tree(myTree);"
      ],
      "execution_count": 15,
      "outputs": [
        {
          "output_type": "display_data",
          "data": {
            "image/png": "[encoded data removed]",
            "text/plain": [
              "<Figure size 432x288 with 1 Axes>"
            ]
          },
          "metadata": {
            "tags": [],
            "needs_background": "light"
          }
        }
      ]
    },
    {
      "cell_type": "code",
      "metadata": {
        "id": "qdJeQoBREEG5"
      },
      "source": [
        ""
      ],
      "execution_count": null,
      "outputs": []
    }
  ]
}