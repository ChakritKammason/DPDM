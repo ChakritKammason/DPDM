{
  "nbformat": 4,
  "nbformat_minor": 0,
  "metadata": {
    "colab": {
      "name": "QR-Code Reader.ipynb",
      "provenance": [],
      "authorship_tag": "ABX9TyNVB2G7lcAu5epmt9Hhyptu",
      "include_colab_link": true
    },
    "kernelspec": {
      "name": "python3",
      "display_name": "Python 3"
    }
  },
  "cells": [
    {
      "cell_type": "markdown",
      "metadata": {
        "id": "view-in-github",
        "colab_type": "text"
      },
      "source": [
        "<a href=\"https://colab.research.google.com/github/ChakritKammason/DPDM/blob/master/QR_Code_Reader.ipynb\" target=\"_parent\"><img src=\"https://colab.research.google.com/assets/colab-badge.svg\" alt=\"Open In Colab\"/></a>"
      ]
    },
    {
      "cell_type": "code",
      "metadata": {
        "colab": {
          "base_uri": "https://localhost:8080/"
        },
        "id": "QBDOECn2y3V5",
        "outputId": "199e5326-684c-46e6-bbda-0010004d2190"
      },
      "source": [
        "pip install pyzbar"
      ],
      "execution_count": 1,
      "outputs": [
        {
          "output_type": "stream",
          "text": [
            "Collecting pyzbar\n",
            "  Downloading https://files.pythonhosted.org/packages/46/7e/d2ad702facc47c0b3106a494f5dfbc3f296aab7a07dac05d1f30bdad0fab/pyzbar-0.1.8-py2.py3-none-any.whl\n",
            "Installing collected packages: pyzbar\n",
            "Successfully installed pyzbar-0.1.8\n"
          ],
          "name": "stdout"
        }
      ]
    },
    {
      "cell_type": "code",
      "metadata": {
        "id": "VQ8sqbUIy-E4"
      },
      "source": [
        "import cv2\r\n",
        "import numpy as np\r\n",
        "import pyzbar.pyzbar as pyzbar"
      ],
      "execution_count": null,
      "outputs": []
    },
    {
      "cell_type": "code",
      "metadata": {
        "id": "vIhkZr7c1wHq"
      },
      "source": [
        "cap = cv2.VideoCapture(0)\r\n",
        "\r\n",
        "while True:\r\n",
        "    _,frame = cap.read()\r\n",
        "\r\n",
        "    decodedObjects =  pyzbar.decode(frame)\r\n",
        "    for obj in decodedobjects:\r\n",
        "      #print(\"Data\", obj.data)\r\n",
        "      cv2.putText(frame, str(obj.data), (50, 50), font, 2, (255, 0, 0), 3)\r\n",
        "\r\n",
        "    cv2.imshow(\"Frame\", frame)\r\n",
        "\r\n",
        "    key = cv2.waitkey(1)\r\n",
        "    if key == 27:\r\n",
        "      break"
      ],
      "execution_count": null,
      "outputs": []
    },
    {
      "cell_type": "code",
      "metadata": {
        "id": "GqGsUJPxzd5u"
      },
      "source": [
        "#img = cv2.imread(\"pysource qrcode.png\")"
      ],
      "execution_count": 10,
      "outputs": []
    },
    {
      "cell_type": "code",
      "metadata": {
        "id": "p-eDoZmV1Fis"
      },
      "source": [
        "#decodedObjects = pyzbar.decode(img)\r\n",
        "#print(decodedObjects)"
      ],
      "execution_count": null,
      "outputs": []
    },
    {
      "cell_type": "code",
      "metadata": {
        "id": "33ZSTaHz1aFS"
      },
      "source": [
        "#for obj in decodedObjects:\r\n",
        " # print(\"Data:\",obj.data)"
      ],
      "execution_count": null,
      "outputs": []
    },
    {
      "cell_type": "code",
      "metadata": {
        "id": "-ePFaF-7021x"
      },
      "source": [
        "#cv2.imshow(\"Image\",img)\r\n",
        "#cv2.waitKey(0)"
      ],
      "execution_count": null,
      "outputs": []
    }
  ]
}