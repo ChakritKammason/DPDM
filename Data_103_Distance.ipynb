{
  "nbformat": 4,
  "nbformat_minor": 0,
  "metadata": {
    "colab": {
      "name": "Data 103 Distance.ipynb",
      "provenance": [],
      "authorship_tag": "ABX9TyMLrk9BXp3RnaxXcyt/3SjF",
      "include_colab_link": true
    },
    "kernelspec": {
      "name": "python3",
      "display_name": "Python 3"
    }
  },
  "cells": [
    {
      "cell_type": "markdown",
      "metadata": {
        "id": "view-in-github",
        "colab_type": "text"
      },
      "source": [
        "<a href=\"https://colab.research.google.com/github/ChakritKammason/DPDM/blob/master/Data_103_Distance.ipynb\" target=\"_parent\"><img src=\"https://colab.research.google.com/assets/colab-badge.svg\" alt=\"Open In Colab\"/></a>"
      ]
    },
    {
      "cell_type": "code",
      "metadata": {
        "id": "v0XZ_uRevtzG",
        "colab_type": "code",
        "colab": {}
      },
      "source": [
        "import numpy as np"
      ],
      "execution_count": 2,
      "outputs": []
    },
    {
      "cell_type": "code",
      "metadata": {
        "id": "2pghCcNVv9uw",
        "colab_type": "code",
        "colab": {}
      },
      "source": [
        "A = np.array([[1,2,3],[4,5,6]])"
      ],
      "execution_count": 3,
      "outputs": []
    },
    {
      "cell_type": "code",
      "metadata": {
        "id": "_g2YdD4IwXsP",
        "colab_type": "code",
        "colab": {
          "base_uri": "https://localhost:8080/",
          "height": 50
        },
        "outputId": "4ecbe964-929e-4c25-f5ac-806cb9020c7a"
      },
      "source": [
        "A"
      ],
      "execution_count": 4,
      "outputs": [
        {
          "output_type": "execute_result",
          "data": {
            "text/plain": [
              "array([[1, 2, 3],\n",
              "       [4, 5, 6]])"
            ]
          },
          "metadata": {
            "tags": []
          },
          "execution_count": 4
        }
      ]
    },
    {
      "cell_type": "code",
      "metadata": {
        "id": "zYacklQOwJV3",
        "colab_type": "code",
        "colab": {
          "base_uri": "https://localhost:8080/",
          "height": 67
        },
        "outputId": "583b82cb-8fff-4e80-b10c-3577204cf2b7"
      },
      "source": [
        "A.T"
      ],
      "execution_count": 5,
      "outputs": [
        {
          "output_type": "execute_result",
          "data": {
            "text/plain": [
              "array([[1, 4],\n",
              "       [2, 5],\n",
              "       [3, 6]])"
            ]
          },
          "metadata": {
            "tags": []
          },
          "execution_count": 5
        }
      ]
    },
    {
      "cell_type": "code",
      "metadata": {
        "id": "w2T-BsFAwVG_",
        "colab_type": "code",
        "colab": {
          "base_uri": "https://localhost:8080/",
          "height": 50
        },
        "outputId": "bb5f32b4-3c31-49b9-eb9d-67a152c8fdd7"
      },
      "source": [
        "A.dot(A.T)"
      ],
      "execution_count": 6,
      "outputs": [
        {
          "output_type": "execute_result",
          "data": {
            "text/plain": [
              "array([[14, 32],\n",
              "       [32, 77]])"
            ]
          },
          "metadata": {
            "tags": []
          },
          "execution_count": 6
        }
      ]
    },
    {
      "cell_type": "markdown",
      "metadata": {
        "id": "iVXG1X2CxVN_",
        "colab_type": "text"
      },
      "source": [
        "Array Slicing การตัด"
      ]
    },
    {
      "cell_type": "code",
      "metadata": {
        "id": "UoyAmx8Ewffn",
        "colab_type": "code",
        "colab": {
          "base_uri": "https://localhost:8080/",
          "height": 34
        },
        "outputId": "7996a8a1-a79b-4956-c842-cea692f73ccd"
      },
      "source": [
        "A[0,1]"
      ],
      "execution_count": 7,
      "outputs": [
        {
          "output_type": "execute_result",
          "data": {
            "text/plain": [
              "2"
            ]
          },
          "metadata": {
            "tags": []
          },
          "execution_count": 7
        }
      ]
    },
    {
      "cell_type": "code",
      "metadata": {
        "id": "hcd8X-Eew76r",
        "colab_type": "code",
        "colab": {
          "base_uri": "https://localhost:8080/",
          "height": 34
        },
        "outputId": "d6702028-4381-496d-82ad-ce7744d6d599"
      },
      "source": [
        "A[1,1:]"
      ],
      "execution_count": 8,
      "outputs": [
        {
          "output_type": "execute_result",
          "data": {
            "text/plain": [
              "array([5, 6])"
            ]
          },
          "metadata": {
            "tags": []
          },
          "execution_count": 8
        }
      ]
    },
    {
      "cell_type": "markdown",
      "metadata": {
        "id": "EPzxHIYxzWS4",
        "colab_type": "text"
      },
      "source": [
        "#สร้าง Distance Matrix (Eucidian) ของ data matrix ใน slides"
      ]
    },
    {
      "cell_type": "code",
      "metadata": {
        "id": "1uNtdkX_zdGk",
        "colab_type": "code",
        "colab": {
          "base_uri": "https://localhost:8080/",
          "height": 84
        },
        "outputId": "23c9f694-c136-43f0-9641-b43deffa2df8"
      },
      "source": [
        "data1 = np.array([[1,2],[3,5],[2,0],[4,5]])\n",
        "data1"
      ],
      "execution_count": 9,
      "outputs": [
        {
          "output_type": "execute_result",
          "data": {
            "text/plain": [
              "array([[1, 2],\n",
              "       [3, 5],\n",
              "       [2, 0],\n",
              "       [4, 5]])"
            ]
          },
          "metadata": {
            "tags": []
          },
          "execution_count": 9
        }
      ]
    },
    {
      "cell_type": "markdown",
      "metadata": {
        "id": "gohQqLxd0KmI",
        "colab_type": "text"
      },
      "source": [
        "สร้าง Manhuttan distance metrix"
      ]
    },
    {
      "cell_type": "code",
      "metadata": {
        "id": "TIYZNI-rzo63",
        "colab_type": "code",
        "colab": {}
      },
      "source": [
        "def manhuttan_dist(dp1,dp2):\n",
        "  distx = abs(dp1[0]-dp2[0])\n",
        "  disty = abs(dp1[1]-dp2[1])\n",
        "  return distx + disty"
      ],
      "execution_count": 10,
      "outputs": []
    },
    {
      "cell_type": "markdown",
      "metadata": {
        "id": "uz3gLxyH1smw",
        "colab_type": "text"
      },
      "source": [
        "สร้าง Array เปล่า"
      ]
    },
    {
      "cell_type": "code",
      "metadata": {
        "id": "x9XWktzP1DU6",
        "colab_type": "code",
        "colab": {
          "base_uri": "https://localhost:8080/",
          "height": 84
        },
        "outputId": "93ec2139-66bd-4b27-b6cf-37bb0695e20a"
      },
      "source": [
        "np.zeros((4,4)) #วิธีที่1 "
      ],
      "execution_count": 11,
      "outputs": [
        {
          "output_type": "execute_result",
          "data": {
            "text/plain": [
              "array([[0., 0., 0., 0.],\n",
              "       [0., 0., 0., 0.],\n",
              "       [0., 0., 0., 0.],\n",
              "       [0., 0., 0., 0.]])"
            ]
          },
          "metadata": {
            "tags": []
          },
          "execution_count": 11
        }
      ]
    },
    {
      "cell_type": "code",
      "metadata": {
        "id": "Obbj7z3m1rOz",
        "colab_type": "code",
        "colab": {
          "base_uri": "https://localhost:8080/",
          "height": 84
        },
        "outputId": "92b6411d-d8f8-4cef-9a74-d9a6864ed138"
      },
      "source": [
        "dist_mat_man = np.ones((4,4)) #วิธีที่2\n",
        "dist_mat_man "
      ],
      "execution_count": 12,
      "outputs": [
        {
          "output_type": "execute_result",
          "data": {
            "text/plain": [
              "array([[1., 1., 1., 1.],\n",
              "       [1., 1., 1., 1.],\n",
              "       [1., 1., 1., 1.],\n",
              "       [1., 1., 1., 1.]])"
            ]
          },
          "metadata": {
            "tags": []
          },
          "execution_count": 12
        }
      ]
    },
    {
      "cell_type": "markdown",
      "metadata": {
        "id": "_Uu7gQfb2MiB",
        "colab_type": "text"
      },
      "source": [
        "เอาค่าที่คำนวณมาใส่"
      ]
    },
    {
      "cell_type": "code",
      "metadata": {
        "id": "MyxxoJoV1xsF",
        "colab_type": "code",
        "colab": {
          "base_uri": "https://localhost:8080/",
          "height": 84
        },
        "outputId": "62f919a0-9dce-463e-8771-bd31177e72d4"
      },
      "source": [
        "for i in range(4):\n",
        "  for j in range(4):\n",
        "    dist_mat_man[i,j] = manhuttan_dist(data1[i,:],data1[j,:])\n",
        "\n",
        "dist_mat_man"
      ],
      "execution_count": 13,
      "outputs": [
        {
          "output_type": "execute_result",
          "data": {
            "text/plain": [
              "array([[0., 5., 3., 6.],\n",
              "       [5., 0., 6., 1.],\n",
              "       [3., 6., 0., 7.],\n",
              "       [6., 1., 7., 0.]])"
            ]
          },
          "metadata": {
            "tags": []
          },
          "execution_count": 13
        }
      ]
    },
    {
      "cell_type": "markdown",
      "metadata": {
        "id": "i27xDvaiuceu",
        "colab_type": "text"
      },
      "source": [
        "Eucidian"
      ]
    },
    {
      "cell_type": "code",
      "metadata": {
        "id": "aPDpe9Krub_l",
        "colab_type": "code",
        "colab": {}
      },
      "source": [
        "import math"
      ],
      "execution_count": 14,
      "outputs": []
    },
    {
      "cell_type": "code",
      "metadata": {
        "id": "v43SVuARvwZz",
        "colab_type": "code",
        "colab": {}
      },
      "source": [
        "def Euclidean_dist(ep1,ep2):\n",
        "    dist_a = abs(ep1[0]-ep2[0])\n",
        "    dist_b = abs(ep1[1]-ep2[1])\n",
        "    return math.sqrt(dist_a**2 + dist_b**2)"
      ],
      "execution_count": 26,
      "outputs": []
    },
    {
      "cell_type": "code",
      "metadata": {
        "id": "fanSgKdWu-uA",
        "colab_type": "code",
        "colab": {}
      },
      "source": [
        "dist_mat_Eu = np.zeros((4,4))"
      ],
      "execution_count": 27,
      "outputs": []
    },
    {
      "cell_type": "code",
      "metadata": {
        "id": "_psLv3SbvE4z",
        "colab_type": "code",
        "colab": {
          "base_uri": "https://localhost:8080/",
          "height": 84
        },
        "outputId": "eb4ffb9e-18db-4262-c31f-8670e1748f0f"
      },
      "source": [
        "dist_mat_Eu"
      ],
      "execution_count": 28,
      "outputs": [
        {
          "output_type": "execute_result",
          "data": {
            "text/plain": [
              "array([[0., 0., 0., 0.],\n",
              "       [0., 0., 0., 0.],\n",
              "       [0., 0., 0., 0.],\n",
              "       [0., 0., 0., 0.]])"
            ]
          },
          "metadata": {
            "tags": []
          },
          "execution_count": 28
        }
      ]
    },
    {
      "cell_type": "code",
      "metadata": {
        "id": "7C2WsOd5vFW1",
        "colab_type": "code",
        "colab": {
          "base_uri": "https://localhost:8080/",
          "height": 84
        },
        "outputId": "9851d960-c308-43ec-b88d-2da7dbad7b88"
      },
      "source": [
        "for i in range(4):\n",
        "  for j in range(4):\n",
        "      dist_mat_Eu[i,j] = Euclidean_dist(data1[i,:],data1[j,:])\n",
        "\n",
        "dist_mat_Eu"
      ],
      "execution_count": 32,
      "outputs": [
        {
          "output_type": "execute_result",
          "data": {
            "text/plain": [
              "array([[0.        , 3.60555128, 2.23606798, 4.24264069],\n",
              "       [3.60555128, 0.        , 5.09901951, 1.        ],\n",
              "       [2.23606798, 5.09901951, 0.        , 5.38516481],\n",
              "       [4.24264069, 1.        , 5.38516481, 0.        ]])"
            ]
          },
          "metadata": {
            "tags": []
          },
          "execution_count": 32
        }
      ]
    }
  ]
}