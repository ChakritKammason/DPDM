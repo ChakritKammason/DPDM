{
  "nbformat": 4,
  "nbformat_minor": 0,
  "metadata": {
    "colab": {
      "name": "Data 103 Distance.ipynb",
      "provenance": [],
      "include_colab_link": true
    },
    "kernelspec": {
      "name": "python3",
      "display_name": "Python 3"
    }
  },
  "cells": [
    {
      "cell_type": "markdown",
      "metadata": {
        "id": "view-in-github",
        "colab_type": "text"
      },
      "source": [
        "<a href=\"https://colab.research.google.com/github/ChakritKammason/DPDM/blob/master/Data_103_Distance.ipynb\" target=\"_parent\"><img src=\"https://colab.research.google.com/assets/colab-badge.svg\" alt=\"Open In Colab\"/></a>"
      ]
    },
    {
      "cell_type": "code",
      "metadata": {
        "id": "v0XZ_uRevtzG",
        "colab_type": "code",
        "colab": {}
      },
      "source": [
        "import numpy as np"
      ],
      "execution_count": 2,
      "outputs": []
    },
    {
      "cell_type": "code",
      "metadata": {
        "id": "aPDpe9Krub_l",
        "colab_type": "code",
        "colab": {}
      },
      "source": [
        "import math"
      ],
      "execution_count": 3,
      "outputs": []
    },
    {
      "cell_type": "code",
      "metadata": {
        "id": "2pghCcNVv9uw",
        "colab_type": "code",
        "colab": {}
      },
      "source": [
        "A = np.array([[1,2,3],[4,5,6]])"
      ],
      "execution_count": null,
      "outputs": []
    },
    {
      "cell_type": "code",
      "metadata": {
        "id": "_g2YdD4IwXsP",
        "colab_type": "code",
        "colab": {
          "base_uri": "https://localhost:8080/",
          "height": 50
        },
        "outputId": "4ecbe964-929e-4c25-f5ac-806cb9020c7a"
      },
      "source": [
        "A"
      ],
      "execution_count": null,
      "outputs": [
        {
          "output_type": "execute_result",
          "data": {
            "text/plain": [
              "array([[1, 2, 3],\n",
              "       [4, 5, 6]])"
            ]
          },
          "metadata": {
            "tags": []
          },
          "execution_count": 4
        }
      ]
    },
    {
      "cell_type": "code",
      "metadata": {
        "id": "zYacklQOwJV3",
        "colab_type": "code",
        "colab": {
          "base_uri": "https://localhost:8080/",
          "height": 67
        },
        "outputId": "583b82cb-8fff-4e80-b10c-3577204cf2b7"
      },
      "source": [
        "A.T"
      ],
      "execution_count": null,
      "outputs": [
        {
          "output_type": "execute_result",
          "data": {
            "text/plain": [
              "array([[1, 4],\n",
              "       [2, 5],\n",
              "       [3, 6]])"
            ]
          },
          "metadata": {
            "tags": []
          },
          "execution_count": 5
        }
      ]
    },
    {
      "cell_type": "code",
      "metadata": {
        "id": "w2T-BsFAwVG_",
        "colab_type": "code",
        "colab": {
          "base_uri": "https://localhost:8080/",
          "height": 50
        },
        "outputId": "bb5f32b4-3c31-49b9-eb9d-67a152c8fdd7"
      },
      "source": [
        "A.dot(A.T)"
      ],
      "execution_count": null,
      "outputs": [
        {
          "output_type": "execute_result",
          "data": {
            "text/plain": [
              "array([[14, 32],\n",
              "       [32, 77]])"
            ]
          },
          "metadata": {
            "tags": []
          },
          "execution_count": 6
        }
      ]
    },
    {
      "cell_type": "markdown",
      "metadata": {
        "id": "iVXG1X2CxVN_",
        "colab_type": "text"
      },
      "source": [
        "Array Slicing การตัด"
      ]
    },
    {
      "cell_type": "code",
      "metadata": {
        "id": "UoyAmx8Ewffn",
        "colab_type": "code",
        "colab": {
          "base_uri": "https://localhost:8080/",
          "height": 34
        },
        "outputId": "7996a8a1-a79b-4956-c842-cea692f73ccd"
      },
      "source": [
        "A[0,1]"
      ],
      "execution_count": null,
      "outputs": [
        {
          "output_type": "execute_result",
          "data": {
            "text/plain": [
              "2"
            ]
          },
          "metadata": {
            "tags": []
          },
          "execution_count": 7
        }
      ]
    },
    {
      "cell_type": "code",
      "metadata": {
        "id": "hcd8X-Eew76r",
        "colab_type": "code",
        "colab": {
          "base_uri": "https://localhost:8080/",
          "height": 34
        },
        "outputId": "d6702028-4381-496d-82ad-ce7744d6d599"
      },
      "source": [
        "A[1,1:]"
      ],
      "execution_count": null,
      "outputs": [
        {
          "output_type": "execute_result",
          "data": {
            "text/plain": [
              "array([5, 6])"
            ]
          },
          "metadata": {
            "tags": []
          },
          "execution_count": 8
        }
      ]
    },
    {
      "cell_type": "markdown",
      "metadata": {
        "id": "EPzxHIYxzWS4",
        "colab_type": "text"
      },
      "source": [
        "#สร้าง Distance Matrix (Eucidian) ของ data matrix ใน slides"
      ]
    },
    {
      "cell_type": "code",
      "metadata": {
        "id": "1uNtdkX_zdGk",
        "colab_type": "code",
        "colab": {
          "base_uri": "https://localhost:8080/",
          "height": 84
        },
        "outputId": "37f4f45e-826a-40d4-98a5-a56087608a10"
      },
      "source": [
        "data11 = np.array([[1,2],[3,5],[2,0],[4,5]])\n",
        "data11"
      ],
      "execution_count": null,
      "outputs": [
        {
          "output_type": "execute_result",
          "data": {
            "text/plain": [
              "array([[1, 2],\n",
              "       [3, 5],\n",
              "       [2, 0],\n",
              "       [4, 5]])"
            ]
          },
          "metadata": {
            "tags": []
          },
          "execution_count": 28
        }
      ]
    },
    {
      "cell_type": "markdown",
      "metadata": {
        "id": "gohQqLxd0KmI",
        "colab_type": "text"
      },
      "source": [
        "สร้าง Manhuttan distance metrix"
      ]
    },
    {
      "cell_type": "code",
      "metadata": {
        "id": "TIYZNI-rzo63",
        "colab_type": "code",
        "colab": {}
      },
      "source": [
        "def manhuttan_dist(dp1,dp2):\n",
        "  distx = abs(dp1[0]-dp2[0])\n",
        "  disty = abs(dp1[1]-dp2[1])\n",
        "  return distx + disty"
      ],
      "execution_count": null,
      "outputs": []
    },
    {
      "cell_type": "markdown",
      "metadata": {
        "id": "uz3gLxyH1smw",
        "colab_type": "text"
      },
      "source": [
        "สร้าง Array เปล่า"
      ]
    },
    {
      "cell_type": "code",
      "metadata": {
        "id": "x9XWktzP1DU6",
        "colab_type": "code",
        "colab": {
          "base_uri": "https://localhost:8080/",
          "height": 84
        },
        "outputId": "1f69888d-485f-42ca-e9a4-d06b83cdb4f8"
      },
      "source": [
        "np.zeros((4,4)) #วิธีที่1 "
      ],
      "execution_count": null,
      "outputs": [
        {
          "output_type": "execute_result",
          "data": {
            "text/plain": [
              "array([[0., 0., 0., 0.],\n",
              "       [0., 0., 0., 0.],\n",
              "       [0., 0., 0., 0.],\n",
              "       [0., 0., 0., 0.]])"
            ]
          },
          "metadata": {
            "tags": []
          },
          "execution_count": 5
        }
      ]
    },
    {
      "cell_type": "code",
      "metadata": {
        "id": "Obbj7z3m1rOz",
        "colab_type": "code",
        "colab": {
          "base_uri": "https://localhost:8080/",
          "height": 84
        },
        "outputId": "c96b5005-1278-4bb1-abcd-e917d2b638dc"
      },
      "source": [
        "dist_mat_man = np.ones((4,4)) #วิธีที่2\n",
        "dist_mat_man "
      ],
      "execution_count": null,
      "outputs": [
        {
          "output_type": "execute_result",
          "data": {
            "text/plain": [
              "array([[1., 1., 1., 1.],\n",
              "       [1., 1., 1., 1.],\n",
              "       [1., 1., 1., 1.],\n",
              "       [1., 1., 1., 1.]])"
            ]
          },
          "metadata": {
            "tags": []
          },
          "execution_count": 6
        }
      ]
    },
    {
      "cell_type": "markdown",
      "metadata": {
        "id": "_Uu7gQfb2MiB",
        "colab_type": "text"
      },
      "source": [
        "เอาค่าที่คำนวณมาใส่"
      ]
    },
    {
      "cell_type": "code",
      "metadata": {
        "id": "MyxxoJoV1xsF",
        "colab_type": "code",
        "colab": {
          "base_uri": "https://localhost:8080/",
          "height": 84
        },
        "outputId": "7cbd4cec-d384-4495-de00-ad0bd06f18c0"
      },
      "source": [
        "for i in range(4):\n",
        "  for j in range(4):\n",
        "    dist_mat_man[i,j] = manhuttan_dist(data11[i,:],data11[j,:])\n",
        "\n",
        "dist_mat_man"
      ],
      "execution_count": null,
      "outputs": [
        {
          "output_type": "execute_result",
          "data": {
            "text/plain": [
              "array([[0., 5., 3., 6.],\n",
              "       [5., 0., 6., 1.],\n",
              "       [3., 6., 0., 7.],\n",
              "       [6., 1., 7., 0.]])"
            ]
          },
          "metadata": {
            "tags": []
          },
          "execution_count": 29
        }
      ]
    },
    {
      "cell_type": "markdown",
      "metadata": {
        "id": "i27xDvaiuceu",
        "colab_type": "text"
      },
      "source": [
        "Eucidian"
      ]
    },
    {
      "cell_type": "code",
      "metadata": {
        "id": "v43SVuARvwZz",
        "colab_type": "code",
        "colab": {}
      },
      "source": [
        "def Euclidean_dist(ep1,ep2):\n",
        "    dist_a = abs(ep1[0]-ep2[0])\n",
        "    dist_b = abs(ep1[1]-ep2[1])\n",
        "    return math.sqrt(dist_a**2 + dist_b**2)"
      ],
      "execution_count": null,
      "outputs": []
    },
    {
      "cell_type": "code",
      "metadata": {
        "id": "fanSgKdWu-uA",
        "colab_type": "code",
        "colab": {}
      },
      "source": [
        "dist_mat_Eu = np.zeros((4,4))"
      ],
      "execution_count": null,
      "outputs": []
    },
    {
      "cell_type": "code",
      "metadata": {
        "id": "_psLv3SbvE4z",
        "colab_type": "code",
        "colab": {
          "base_uri": "https://localhost:8080/",
          "height": 84
        },
        "outputId": "4106dc15-50b5-450c-bb3a-b666253077db"
      },
      "source": [
        "dist_mat_Eu"
      ],
      "execution_count": null,
      "outputs": [
        {
          "output_type": "execute_result",
          "data": {
            "text/plain": [
              "array([[0., 0., 0., 0.],\n",
              "       [0., 0., 0., 0.],\n",
              "       [0., 0., 0., 0.],\n",
              "       [0., 0., 0., 0.]])"
            ]
          },
          "metadata": {
            "tags": []
          },
          "execution_count": 10
        }
      ]
    },
    {
      "cell_type": "code",
      "metadata": {
        "id": "7C2WsOd5vFW1",
        "colab_type": "code",
        "colab": {
          "base_uri": "https://localhost:8080/",
          "height": 84
        },
        "outputId": "a5736185-1cce-43e0-e1f2-c4f3bb065f64"
      },
      "source": [
        "for i in range(4):\n",
        "  for j in range(4):\n",
        "      dist_mat_Eu[i,j] = Euclidean_dist(data11[i,:],data11[j,:])\n",
        "\n",
        "dist_mat_Eu"
      ],
      "execution_count": null,
      "outputs": [
        {
          "output_type": "execute_result",
          "data": {
            "text/plain": [
              "array([[0.        , 3.60555128, 2.23606798, 4.24264069],\n",
              "       [3.60555128, 0.        , 5.09901951, 1.        ],\n",
              "       [2.23606798, 5.09901951, 0.        , 5.38516481],\n",
              "       [4.24264069, 1.        , 5.38516481, 0.        ]])"
            ]
          },
          "metadata": {
            "tags": []
          },
          "execution_count": 30
        }
      ]
    },
    {
      "cell_type": "markdown",
      "metadata": {
        "id": "9Ez0TVyadfk8",
        "colab_type": "text"
      },
      "source": [
        "# Distance of nominal or categorical features\n",
        "(extra) Python data structure (Dictionary)\n"
      ]
    },
    {
      "cell_type": "markdown",
      "metadata": {
        "id": "KaxM2aGWeD8t",
        "colab_type": "text"
      },
      "source": [
        "ตัวข้างหน้าคือ index ตัวข้างหลังคือ จะเก็บอะไร"
      ]
    },
    {
      "cell_type": "code",
      "metadata": {
        "id": "ufHZtJYUc15n",
        "colab_type": "code",
        "colab": {
          "base_uri": "https://localhost:8080/",
          "height": 34
        },
        "outputId": "47c0358f-aff5-4cdd-f986-6f9617b46be5"
      },
      "source": [
        "d_A = {'a':1,2:3,3:5,'cat':6}\n",
        "d_A"
      ],
      "execution_count": null,
      "outputs": [
        {
          "output_type": "execute_result",
          "data": {
            "text/plain": [
              "{2: 3, 3: 5, 'a': 1, 'cat': 6}"
            ]
          },
          "metadata": {
            "tags": []
          },
          "execution_count": 17
        }
      ]
    },
    {
      "cell_type": "code",
      "metadata": {
        "id": "5UTPtFeFd-0j",
        "colab_type": "code",
        "colab": {
          "base_uri": "https://localhost:8080/",
          "height": 34
        },
        "outputId": "c3d50086-977f-4dc2-a1f6-7cced2ddcaa5"
      },
      "source": [
        "d_A['cat']"
      ],
      "execution_count": null,
      "outputs": [
        {
          "output_type": "execute_result",
          "data": {
            "text/plain": [
              "6"
            ]
          },
          "metadata": {
            "tags": []
          },
          "execution_count": 18
        }
      ]
    },
    {
      "cell_type": "markdown",
      "metadata": {
        "id": "NEP4jBG8eyb-",
        "colab_type": "text"
      },
      "source": [
        "เพิ่มตค่าใน dictionary ชื่อ = ค่าที่จะเพิ่มเข้าไป"
      ]
    },
    {
      "cell_type": "code",
      "metadata": {
        "id": "nC9IQCJbeWia",
        "colab_type": "code",
        "colab": {}
      },
      "source": [
        "d_A['dog'] = [1,2,3,4,5]"
      ],
      "execution_count": null,
      "outputs": []
    },
    {
      "cell_type": "code",
      "metadata": {
        "id": "jNBxhN7rexQE",
        "colab_type": "code",
        "colab": {
          "base_uri": "https://localhost:8080/",
          "height": 34
        },
        "outputId": "e25eb33d-e263-46c6-d570-cc0a6f389062"
      },
      "source": [
        "d_A"
      ],
      "execution_count": null,
      "outputs": [
        {
          "output_type": "execute_result",
          "data": {
            "text/plain": [
              "{2: 3, 3: 5, 'a': 1, 'cat': 6, 'dog': [1, 2, 3, 4, 5]}"
            ]
          },
          "metadata": {
            "tags": []
          },
          "execution_count": 20
        }
      ]
    },
    {
      "cell_type": "markdown",
      "metadata": {
        "id": "4nP8TAPqgzFE",
        "colab_type": "text"
      },
      "source": [
        "สร้างตาราง Datafrema โดยใช้ pandas"
      ]
    },
    {
      "cell_type": "code",
      "metadata": {
        "id": "PY6CprxUe2pH",
        "colab_type": "code",
        "colab": {}
      },
      "source": [
        "import pandas as pd"
      ],
      "execution_count": 4,
      "outputs": []
    },
    {
      "cell_type": "code",
      "metadata": {
        "id": "_74v2SMjfOJX",
        "colab_type": "code",
        "colab": {
          "base_uri": "https://localhost:8080/",
          "height": 34
        },
        "outputId": "8046a59d-0ee8-46e9-9d16-1d80c5f2a5d7"
      },
      "source": [
        "data_dict = {'color':['red','red','green'],'status':['single','married','single']}\n",
        "data_dict"
      ],
      "execution_count": 5,
      "outputs": [
        {
          "output_type": "execute_result",
          "data": {
            "text/plain": [
              "{'color': ['red', 'red', 'green'], 'status': ['single', 'married', 'single']}"
            ]
          },
          "metadata": {
            "tags": []
          },
          "execution_count": 5
        }
      ]
    },
    {
      "cell_type": "code",
      "metadata": {
        "id": "UGdl88ldfret",
        "colab_type": "code",
        "colab": {}
      },
      "source": [
        "data_pd = pd.DataFrame.from_dict(data_dict)"
      ],
      "execution_count": 6,
      "outputs": []
    },
    {
      "cell_type": "code",
      "metadata": {
        "id": "eH7aPV0ff3kv",
        "colab_type": "code",
        "colab": {
          "base_uri": "https://localhost:8080/",
          "height": 142
        },
        "outputId": "b8662f26-3f8f-46ba-f02d-841e50bcfff1"
      },
      "source": [
        "data_pd"
      ],
      "execution_count": 7,
      "outputs": [
        {
          "output_type": "execute_result",
          "data": {
            "text/html": [
              "<div>\n",
              "<style scoped>\n",
              "    .dataframe tbody tr th:only-of-type {\n",
              "        vertical-align: middle;\n",
              "    }\n",
              "\n",
              "    .dataframe tbody tr th {\n",
              "        vertical-align: top;\n",
              "    }\n",
              "\n",
              "    .dataframe thead th {\n",
              "        text-align: right;\n",
              "    }\n",
              "</style>\n",
              "<table border=\"1\" class=\"dataframe\">\n",
              "  <thead>\n",
              "    <tr style=\"text-align: right;\">\n",
              "      <th></th>\n",
              "      <th>color</th>\n",
              "      <th>status</th>\n",
              "    </tr>\n",
              "  </thead>\n",
              "  <tbody>\n",
              "    <tr>\n",
              "      <th>0</th>\n",
              "      <td>red</td>\n",
              "      <td>single</td>\n",
              "    </tr>\n",
              "    <tr>\n",
              "      <th>1</th>\n",
              "      <td>red</td>\n",
              "      <td>married</td>\n",
              "    </tr>\n",
              "    <tr>\n",
              "      <th>2</th>\n",
              "      <td>green</td>\n",
              "      <td>single</td>\n",
              "    </tr>\n",
              "  </tbody>\n",
              "</table>\n",
              "</div>"
            ],
            "text/plain": [
              "   color   status\n",
              "0    red   single\n",
              "1    red  married\n",
              "2  green   single"
            ]
          },
          "metadata": {
            "tags": []
          },
          "execution_count": 7
        }
      ]
    },
    {
      "cell_type": "markdown",
      "metadata": {
        "id": "MBeKewHIha2b",
        "colab_type": "text"
      },
      "source": [
        "# Categorical feature distance method#1"
      ]
    },
    {
      "cell_type": "markdown",
      "metadata": {
        "id": "M60pTD5hh9Ne",
        "colab_type": "text"
      },
      "source": [
        "[1,:] แถวที่ 1 ทุกหลัก"
      ]
    },
    {
      "cell_type": "code",
      "metadata": {
        "id": "_rGQJys4f5YB",
        "colab_type": "code",
        "colab": {
          "base_uri": "https://localhost:8080/",
          "height": 34
        },
        "outputId": "c607a1ca-7ecd-45b9-8c01-0ae9497baff8"
      },
      "source": [
        "list(data_pd.iloc[1,:])"
      ],
      "execution_count": 8,
      "outputs": [
        {
          "output_type": "execute_result",
          "data": {
            "text/plain": [
              "['red', 'married']"
            ]
          },
          "metadata": {
            "tags": []
          },
          "execution_count": 8
        }
      ]
    },
    {
      "cell_type": "code",
      "metadata": {
        "id": "9F7EGi92hvi3",
        "colab_type": "code",
        "colab": {}
      },
      "source": [
        "def meth1_dist(data1,data2):\n",
        "  N = 0\n",
        "  print(f'data is {data1} and data2 is {data2}')\n",
        "  for i in range(len(data1)):\n",
        "    if data1[i] != data2[i]:\n",
        "      print(f'feature{i} of data1 is {data1[i]}, feature{i} of data2 is {data2[i]}')\n",
        "      N = N + 1\n",
        "      print(f' {data1[i]} is not equal {data2[i]} : update ({N})')\n",
        "    else:\n",
        "      print(f' {data1[i]} is equal {data2[i]} : update ({N})')\n",
        "  return N/len(data1)"
      ],
      "execution_count": 11,
      "outputs": []
    },
    {
      "cell_type": "code",
      "metadata": {
        "id": "9PgIrwmKiv-j",
        "colab_type": "code",
        "colab": {
          "base_uri": "https://localhost:8080/",
          "height": 102
        },
        "outputId": "50822077-8af2-47a3-e311-ad811e23d0b7"
      },
      "source": [
        "meth1_dist(list(data_pd.iloc[0,:]),list(data_pd.iloc[1,:]))"
      ],
      "execution_count": 10,
      "outputs": [
        {
          "output_type": "stream",
          "text": [
            "data is ['red', 'single'] and data2 is ['red', 'married']\n",
            " red is equal red : update (0)\n",
            "feature1 of data1 is single, feature1 of data2 is married\n",
            " single is not equal married : update (1)\n"
          ],
          "name": "stdout"
        },
        {
          "output_type": "execute_result",
          "data": {
            "text/plain": [
              "0.5"
            ]
          },
          "metadata": {
            "tags": []
          },
          "execution_count": 10
        }
      ]
    },
    {
      "cell_type": "markdown",
      "metadata": {
        "id": "nR31uAJmmaEq",
        "colab_type": "text"
      },
      "source": [
        "# HW 7 calculate dustance matrix od data_pd using meth1_dist()\n",
        "หา distance metrix"
      ]
    },
    {
      "cell_type": "code",
      "metadata": {
        "id": "SbMqHv2wj9ig",
        "colab_type": "code",
        "colab": {
          "base_uri": "https://localhost:8080/",
          "height": 68
        },
        "outputId": "22e241c8-d8da-4c39-d9c2-72d189eaaff6"
      },
      "source": [
        "dist_data_pd = np.ones((3,3)) #วิธีที่2\n",
        "dist_data_pd  "
      ],
      "execution_count": 12,
      "outputs": [
        {
          "output_type": "execute_result",
          "data": {
            "text/plain": [
              "array([[1., 1., 1.],\n",
              "       [1., 1., 1.],\n",
              "       [1., 1., 1.]])"
            ]
          },
          "metadata": {
            "tags": []
          },
          "execution_count": 12
        }
      ]
    },
    {
      "cell_type": "code",
      "metadata": {
        "id": "6TAKmw7aqy4H",
        "colab_type": "code",
        "colab": {
          "base_uri": "https://localhost:8080/",
          "height": 663
        },
        "outputId": "ff870452-dcaa-44d8-8cf1-d67e0a4b3f03"
      },
      "source": [
        "for i in range(3):\n",
        "  for j in range(3):\n",
        "    dist_data_pd[i,j] = meth1_dist(list(data_pd.iloc[i,:]),list(data_pd.iloc[j,:]))\n",
        "\n",
        "dist_data_pd"
      ],
      "execution_count": 13,
      "outputs": [
        {
          "output_type": "stream",
          "text": [
            "data is ['red', 'single'] and data2 is ['red', 'single']\n",
            " red is equal red : update (0)\n",
            " single is equal single : update (0)\n",
            "data is ['red', 'single'] and data2 is ['red', 'married']\n",
            " red is equal red : update (0)\n",
            "feature1 of data1 is single, feature1 of data2 is married\n",
            " single is not equal married : update (1)\n",
            "data is ['red', 'single'] and data2 is ['green', 'single']\n",
            "feature0 of data1 is red, feature0 of data2 is green\n",
            " red is not equal green : update (1)\n",
            " single is equal single : update (1)\n",
            "data is ['red', 'married'] and data2 is ['red', 'single']\n",
            " red is equal red : update (0)\n",
            "feature1 of data1 is married, feature1 of data2 is single\n",
            " married is not equal single : update (1)\n",
            "data is ['red', 'married'] and data2 is ['red', 'married']\n",
            " red is equal red : update (0)\n",
            " married is equal married : update (0)\n",
            "data is ['red', 'married'] and data2 is ['green', 'single']\n",
            "feature0 of data1 is red, feature0 of data2 is green\n",
            " red is not equal green : update (1)\n",
            "feature1 of data1 is married, feature1 of data2 is single\n",
            " married is not equal single : update (2)\n",
            "data is ['green', 'single'] and data2 is ['red', 'single']\n",
            "feature0 of data1 is green, feature0 of data2 is red\n",
            " green is not equal red : update (1)\n",
            " single is equal single : update (1)\n",
            "data is ['green', 'single'] and data2 is ['red', 'married']\n",
            "feature0 of data1 is green, feature0 of data2 is red\n",
            " green is not equal red : update (1)\n",
            "feature1 of data1 is single, feature1 of data2 is married\n",
            " single is not equal married : update (2)\n",
            "data is ['green', 'single'] and data2 is ['green', 'single']\n",
            " green is equal green : update (0)\n",
            " single is equal single : update (0)\n"
          ],
          "name": "stdout"
        },
        {
          "output_type": "execute_result",
          "data": {
            "text/plain": [
              "array([[0. , 0.5, 0.5],\n",
              "       [0.5, 0. , 1. ],\n",
              "       [0.5, 1. , 0. ]])"
            ]
          },
          "metadata": {
            "tags": []
          },
          "execution_count": 13
        }
      ]
    },
    {
      "cell_type": "markdown",
      "metadata": {
        "id": "OoQbS0jkrLtJ",
        "colab_type": "text"
      },
      "source": [
        ""
      ]
    },
    {
      "cell_type": "code",
      "metadata": {
        "id": "1vi8gOl_qsHF",
        "colab_type": "code",
        "colab": {}
      },
      "source": [
        ""
      ],
      "execution_count": null,
      "outputs": []
    }
  ]
}