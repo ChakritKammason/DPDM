{
  "nbformat": 4,
  "nbformat_minor": 0,
  "metadata": {
    "colab": {
      "name": "Data 103 Distance.ipynb",
      "provenance": [],
      "authorship_tag": "ABX9TyN7Hay8q2DhHmt39f3Haa34",
      "include_colab_link": true
    },
    "kernelspec": {
      "name": "python3",
      "display_name": "Python 3"
    }
  },
  "cells": [
    {
      "cell_type": "markdown",
      "metadata": {
        "id": "view-in-github",
        "colab_type": "text"
      },
      "source": [
        "<a href=\"https://colab.research.google.com/github/ChakritKammason/DPDM/blob/master/Data_103_Distance.ipynb\" target=\"_parent\"><img src=\"https://colab.research.google.com/assets/colab-badge.svg\" alt=\"Open In Colab\"/></a>"
      ]
    },
    {
      "cell_type": "code",
      "metadata": {
        "id": "v0XZ_uRevtzG",
        "colab_type": "code",
        "colab": {}
      },
      "source": [
        "import numpy as np"
      ],
      "execution_count": 1,
      "outputs": []
    },
    {
      "cell_type": "code",
      "metadata": {
        "id": "2pghCcNVv9uw",
        "colab_type": "code",
        "colab": {}
      },
      "source": [
        "A = np.array([[1,2,3],[4,5,6]])"
      ],
      "execution_count": 4,
      "outputs": []
    },
    {
      "cell_type": "code",
      "metadata": {
        "id": "_g2YdD4IwXsP",
        "colab_type": "code",
        "colab": {
          "base_uri": "https://localhost:8080/",
          "height": 50
        },
        "outputId": "613169d0-e033-43fa-927b-edc205c4e433"
      },
      "source": [
        "A"
      ],
      "execution_count": 6,
      "outputs": [
        {
          "output_type": "execute_result",
          "data": {
            "text/plain": [
              "array([[1, 2, 3],\n",
              "       [4, 5, 6]])"
            ]
          },
          "metadata": {
            "tags": []
          },
          "execution_count": 6
        }
      ]
    },
    {
      "cell_type": "code",
      "metadata": {
        "id": "zYacklQOwJV3",
        "colab_type": "code",
        "colab": {
          "base_uri": "https://localhost:8080/",
          "height": 67
        },
        "outputId": "575fa2e2-f1d8-4508-f11e-491d61624df9"
      },
      "source": [
        "A.T"
      ],
      "execution_count": 5,
      "outputs": [
        {
          "output_type": "execute_result",
          "data": {
            "text/plain": [
              "array([[1, 4],\n",
              "       [2, 5],\n",
              "       [3, 6]])"
            ]
          },
          "metadata": {
            "tags": []
          },
          "execution_count": 5
        }
      ]
    },
    {
      "cell_type": "code",
      "metadata": {
        "id": "w2T-BsFAwVG_",
        "colab_type": "code",
        "colab": {
          "base_uri": "https://localhost:8080/",
          "height": 50
        },
        "outputId": "90e5020e-0640-4cad-955c-8d937f26265b"
      },
      "source": [
        "A.dot(A.T)"
      ],
      "execution_count": 9,
      "outputs": [
        {
          "output_type": "execute_result",
          "data": {
            "text/plain": [
              "array([[14, 32],\n",
              "       [32, 77]])"
            ]
          },
          "metadata": {
            "tags": []
          },
          "execution_count": 9
        }
      ]
    },
    {
      "cell_type": "markdown",
      "metadata": {
        "id": "iVXG1X2CxVN_",
        "colab_type": "text"
      },
      "source": [
        "Array Slicing การตัด"
      ]
    },
    {
      "cell_type": "code",
      "metadata": {
        "id": "UoyAmx8Ewffn",
        "colab_type": "code",
        "colab": {
          "base_uri": "https://localhost:8080/",
          "height": 34
        },
        "outputId": "eac4bf9f-d563-43ec-ce44-c3c65acc64e3"
      },
      "source": [
        "A[0,1]"
      ],
      "execution_count": 11,
      "outputs": [
        {
          "output_type": "execute_result",
          "data": {
            "text/plain": [
              "2"
            ]
          },
          "metadata": {
            "tags": []
          },
          "execution_count": 11
        }
      ]
    },
    {
      "cell_type": "code",
      "metadata": {
        "id": "hcd8X-Eew76r",
        "colab_type": "code",
        "colab": {
          "base_uri": "https://localhost:8080/",
          "height": 34
        },
        "outputId": "66795b68-b9d7-4b21-acbf-1a795c975357"
      },
      "source": [
        "A[1,1:]"
      ],
      "execution_count": 23,
      "outputs": [
        {
          "output_type": "execute_result",
          "data": {
            "text/plain": [
              "array([5, 6])"
            ]
          },
          "metadata": {
            "tags": []
          },
          "execution_count": 23
        }
      ]
    },
    {
      "cell_type": "markdown",
      "metadata": {
        "id": "EPzxHIYxzWS4",
        "colab_type": "text"
      },
      "source": [
        "#สร้าง Distance Matrix (Eucidian) ของ data matrix ใน slides"
      ]
    },
    {
      "cell_type": "code",
      "metadata": {
        "id": "1uNtdkX_zdGk",
        "colab_type": "code",
        "colab": {
          "base_uri": "https://localhost:8080/",
          "height": 84
        },
        "outputId": "00452c3f-84f3-405a-e65a-82d94e4bd1ad"
      },
      "source": [
        "data1 = np.array([[1,2],[3,5],[2,0],[4,5]])\n",
        "data1"
      ],
      "execution_count": 27,
      "outputs": [
        {
          "output_type": "execute_result",
          "data": {
            "text/plain": [
              "array([[1, 2],\n",
              "       [3, 5],\n",
              "       [2, 0],\n",
              "       [4, 5]])"
            ]
          },
          "metadata": {
            "tags": []
          },
          "execution_count": 27
        }
      ]
    },
    {
      "cell_type": "markdown",
      "metadata": {
        "id": "gohQqLxd0KmI",
        "colab_type": "text"
      },
      "source": [
        "สร้าง Manhuttan distance metrix"
      ]
    },
    {
      "cell_type": "code",
      "metadata": {
        "id": "TIYZNI-rzo63",
        "colab_type": "code",
        "colab": {}
      },
      "source": [
        "def manhuttan_dist(dp1,dp2):\n",
        "  distx = abs(dp1[0]-dp2[0])\n",
        "  disty = abs(dp1[1]-dp2[1])\n",
        "  return distx + disty"
      ],
      "execution_count": 38,
      "outputs": []
    },
    {
      "cell_type": "markdown",
      "metadata": {
        "id": "uz3gLxyH1smw",
        "colab_type": "text"
      },
      "source": [
        "สร้าง Array เปล่า"
      ]
    },
    {
      "cell_type": "code",
      "metadata": {
        "id": "x9XWktzP1DU6",
        "colab_type": "code",
        "colab": {
          "base_uri": "https://localhost:8080/",
          "height": 84
        },
        "outputId": "c50c69c3-7fa8-437d-ab13-b15630195d8f"
      },
      "source": [
        "np.zeros((4,4)) #วิธีที่1 "
      ],
      "execution_count": 30,
      "outputs": [
        {
          "output_type": "execute_result",
          "data": {
            "text/plain": [
              "array([[0., 0., 0., 0.],\n",
              "       [0., 0., 0., 0.],\n",
              "       [0., 0., 0., 0.],\n",
              "       [0., 0., 0., 0.]])"
            ]
          },
          "metadata": {
            "tags": []
          },
          "execution_count": 30
        }
      ]
    },
    {
      "cell_type": "code",
      "metadata": {
        "id": "Obbj7z3m1rOz",
        "colab_type": "code",
        "colab": {
          "base_uri": "https://localhost:8080/",
          "height": 84
        },
        "outputId": "55df235f-dcbf-44a9-a438-c5954b41a5f9"
      },
      "source": [
        "dist_mat_man = np.ones((4,4)) #วิธีที่2\n",
        "dist_mat_man "
      ],
      "execution_count": 34,
      "outputs": [
        {
          "output_type": "execute_result",
          "data": {
            "text/plain": [
              "array([[1., 1., 1., 1.],\n",
              "       [1., 1., 1., 1.],\n",
              "       [1., 1., 1., 1.],\n",
              "       [1., 1., 1., 1.]])"
            ]
          },
          "metadata": {
            "tags": []
          },
          "execution_count": 34
        }
      ]
    },
    {
      "cell_type": "markdown",
      "metadata": {
        "id": "_Uu7gQfb2MiB",
        "colab_type": "text"
      },
      "source": [
        "เอาค่าที่คำนวณมาใส่"
      ]
    },
    {
      "cell_type": "code",
      "metadata": {
        "id": "MyxxoJoV1xsF",
        "colab_type": "code",
        "colab": {
          "base_uri": "https://localhost:8080/",
          "height": 84
        },
        "outputId": "86ff6d04-1a01-4691-f50c-2e66e1564b52"
      },
      "source": [
        "for i in range(4):\n",
        "  for j in range(4):\n",
        "    dist_mat_man[i,j] = manhuttan_dist(data1[i,:],data1[j,:])\n",
        "\n",
        "dist_mat_man"
      ],
      "execution_count": 39,
      "outputs": [
        {
          "output_type": "execute_result",
          "data": {
            "text/plain": [
              "array([[0., 5., 3., 6.],\n",
              "       [5., 0., 6., 1.],\n",
              "       [3., 6., 0., 7.],\n",
              "       [6., 1., 7., 0.]])"
            ]
          },
          "metadata": {
            "tags": []
          },
          "execution_count": 39
        }
      ]
    }
  ]
}