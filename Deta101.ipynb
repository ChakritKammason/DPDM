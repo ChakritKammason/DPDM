{
  "nbformat": 4,
  "nbformat_minor": 0,
  "metadata": {
    "colab": {
      "name": "Deta101.ipynb",
      "provenance": [],
      "authorship_tag": "ABX9TyNiGwfCHVYQwsMNZNnL2emq",
      "include_colab_link": true
    },
    "kernelspec": {
      "name": "python3",
      "display_name": "Python 3"
    }
  },
  "cells": [
    {
      "cell_type": "markdown",
      "metadata": {
        "id": "view-in-github",
        "colab_type": "text"
      },
      "source": [
        "<a href=\"https://colab.research.google.com/github/ChakritKammason/DPDM/blob/master/Deta101.ipynb\" target=\"_parent\"><img src=\"https://colab.research.google.com/assets/colab-badge.svg\" alt=\"Open In Colab\"/></a>"
      ]
    },
    {
      "cell_type": "code",
      "metadata": {
        "id": "KI3RyQLe28ZW",
        "colab_type": "code",
        "colab": {}
      },
      "source": [
        ""
      ],
      "execution_count": null,
      "outputs": []
    },
    {
      "cell_type": "markdown",
      "metadata": {
        "id": "GNMOLT6smj1b",
        "colab_type": "text"
      },
      "source": [
        "ตัวอย่างการเรียกใช้แพกเกจ Pandas"
      ]
    },
    {
      "cell_type": "code",
      "metadata": {
        "id": "T0KayIdXlmmo",
        "colab_type": "code",
        "colab": {}
      },
      "source": [
        "import pandas"
      ],
      "execution_count": null,
      "outputs": []
    },
    {
      "cell_type": "markdown",
      "metadata": {
        "id": "IPPVDoG6saG0",
        "colab_type": "text"
      },
      "source": [
        "ตั้งชื่อฟังก์ชั่นแบบย่อ\n"
      ]
    },
    {
      "cell_type": "code",
      "metadata": {
        "id": "i-k5WtDnmx8b",
        "colab_type": "code",
        "colab": {}
      },
      "source": [
        "import pandas as pd"
      ],
      "execution_count": null,
      "outputs": []
    },
    {
      "cell_type": "markdown",
      "metadata": {
        "id": "zU7-mI5w2xiA",
        "colab_type": "text"
      },
      "source": [
        "เรียใช้การนำเข้าจากไดรฟ์"
      ]
    },
    {
      "cell_type": "code",
      "metadata": {
        "id": "h1uCKkfIm6oi",
        "colab_type": "code",
        "colab": {}
      },
      "source": [
        "from google.colab import drive"
      ],
      "execution_count": null,
      "outputs": []
    },
    {
      "cell_type": "markdown",
      "metadata": {
        "id": "9aakfqpO23l8",
        "colab_type": "text"
      },
      "source": [
        "ลิงค์ข้อมูลการนำเข้ากับไดรฟ์ของเรา"
      ]
    },
    {
      "cell_type": "code",
      "metadata": {
        "id": "zmFv--3pncJf",
        "colab_type": "code",
        "colab": {
          "base_uri": "https://localhost:8080/",
          "height": 121
        },
        "outputId": "5184dd4a-fbea-4d6d-d59c-d537594ea634"
      },
      "source": [
        "drive.mount('/content/drive')"
      ],
      "execution_count": null,
      "outputs": [
        {
          "output_type": "stream",
          "text": [
            "Go to this URL in a browser: https://accounts.google.com/o/oauth2/auth?client_id=947318989803-6bn6qk8qdgf4n4g3pfee6491hc0brc4i.apps.googleusercontent.com&redirect_uri=urn%3aietf%3awg%3aoauth%3a2.0%3aoob&response_type=code&scope=email%20https%3a%2f%2fwww.googleapis.com%2fauth%2fdocs.test%20https%3a%2f%2fwww.googleapis.com%2fauth%2fdrive%20https%3a%2f%2fwww.googleapis.com%2fauth%2fdrive.photos.readonly%20https%3a%2f%2fwww.googleapis.com%2fauth%2fpeopleapi.readonly\n",
            "\n",
            "Enter your authorization code:\n",
            "··········\n",
            "Mounted at /content/drive\n"
          ],
          "name": "stdout"
        }
      ]
    },
    {
      "cell_type": "markdown",
      "metadata": {
        "id": "ofKsWDuF3CZH",
        "colab_type": "text"
      },
      "source": [
        "นำเข้าฟังก์ชั่น os"
      ]
    },
    {
      "cell_type": "code",
      "metadata": {
        "id": "6KIH5tcFnxko",
        "colab_type": "code",
        "colab": {}
      },
      "source": [
        "import os"
      ],
      "execution_count": null,
      "outputs": []
    },
    {
      "cell_type": "markdown",
      "metadata": {
        "id": "8802DjV8tt9F",
        "colab_type": "text"
      },
      "source": [
        "สร้างตัวแปรเก็บข้อมูล"
      ]
    },
    {
      "cell_type": "code",
      "metadata": {
        "id": "5zMTTCZKtL0N",
        "colab_type": "code",
        "colab": {}
      },
      "source": [
        "base_path = '/content/drive/My Drive/DWDM_Material'"
      ],
      "execution_count": null,
      "outputs": []
    },
    {
      "cell_type": "markdown",
      "metadata": {
        "id": "30FVz6Fg3FLY",
        "colab_type": "text"
      },
      "source": [
        "เรียกการใช้งานข้อมมูลจากไดรฟ์ จากตัวแปร"
      ]
    },
    {
      "cell_type": "code",
      "metadata": {
        "id": "Kc11Z5X9oXcu",
        "colab_type": "code",
        "colab": {
          "base_uri": "https://localhost:8080/",
          "height": 218
        },
        "outputId": "02ac220c-971d-4205-b6aa-11857cc76c01"
      },
      "source": [
        "os.listdir(base_path)"
      ],
      "execution_count": null,
      "outputs": [
        {
          "output_type": "execute_result",
          "data": {
            "text/plain": [
              "['teach.csv',\n",
              " '03 สังคม.xls',\n",
              " '52835793_259306464964511_3851804852342489088_n.png',\n",
              " 'Copy of search_click.csv',\n",
              " 'Copy of w_restaurant.csv',\n",
              " 'metadata.xlsx',\n",
              " 'Preprocessing02.html',\n",
              " 'reduced_marketbasket.csv',\n",
              " 'search_click.csv',\n",
              " 'teach02.csv',\n",
              " 'test.csv',\n",
              " 'w_restaurant.csv']"
            ]
          },
          "metadata": {
            "tags": []
          },
          "execution_count": 15
        }
      ]
    },
    {
      "cell_type": "markdown",
      "metadata": {
        "id": "IsmqQhDIuegF",
        "colab_type": "text"
      },
      "source": [
        "สร้างตัวแปรเรียกไฟล์\n"
      ]
    },
    {
      "cell_type": "code",
      "metadata": {
        "id": "xEsp0cPRt6-m",
        "colab_type": "code",
        "colab": {}
      },
      "source": [
        "file_path = os.path.join(base_path,'test.csv')"
      ],
      "execution_count": null,
      "outputs": []
    },
    {
      "cell_type": "markdown",
      "metadata": {
        "id": "lfChQI0Z3ON9",
        "colab_type": "text"
      },
      "source": [
        "อ่านไฟล์ข้อมูลจากไดรฟ์"
      ]
    },
    {
      "cell_type": "code",
      "metadata": {
        "id": "OcfYdFsgo1-g",
        "colab_type": "code",
        "colab": {
          "base_uri": "https://localhost:8080/",
          "height": 402
        },
        "outputId": "d461dee5-4b51-499b-b42d-3e0ff0f9745b"
      },
      "source": [
        "pd.read_csv(file_path)"
      ],
      "execution_count": null,
      "outputs": [
        {
          "output_type": "execute_result",
          "data": {
            "text/html": [
              "<div>\n",
              "<style scoped>\n",
              "    .dataframe tbody tr th:only-of-type {\n",
              "        vertical-align: middle;\n",
              "    }\n",
              "\n",
              "    .dataframe tbody tr th {\n",
              "        vertical-align: top;\n",
              "    }\n",
              "\n",
              "    .dataframe thead th {\n",
              "        text-align: right;\n",
              "    }\n",
              "</style>\n",
              "<table border=\"1\" class=\"dataframe\">\n",
              "  <thead>\n",
              "    <tr style=\"text-align: right;\">\n",
              "      <th></th>\n",
              "      <th>Unnamed: 0</th>\n",
              "      <th>x</th>\n",
              "      <th>y</th>\n",
              "    </tr>\n",
              "  </thead>\n",
              "  <tbody>\n",
              "    <tr>\n",
              "      <th>0</th>\n",
              "      <td>0</td>\n",
              "      <td>55.3846</td>\n",
              "      <td>97.1795</td>\n",
              "    </tr>\n",
              "    <tr>\n",
              "      <th>1</th>\n",
              "      <td>1</td>\n",
              "      <td>51.5385</td>\n",
              "      <td>96.0256</td>\n",
              "    </tr>\n",
              "    <tr>\n",
              "      <th>2</th>\n",
              "      <td>2</td>\n",
              "      <td>46.1538</td>\n",
              "      <td>94.4872</td>\n",
              "    </tr>\n",
              "    <tr>\n",
              "      <th>3</th>\n",
              "      <td>3</td>\n",
              "      <td>42.8205</td>\n",
              "      <td>91.4103</td>\n",
              "    </tr>\n",
              "    <tr>\n",
              "      <th>4</th>\n",
              "      <td>4</td>\n",
              "      <td>40.7692</td>\n",
              "      <td>88.3333</td>\n",
              "    </tr>\n",
              "    <tr>\n",
              "      <th>...</th>\n",
              "      <td>...</td>\n",
              "      <td>...</td>\n",
              "      <td>...</td>\n",
              "    </tr>\n",
              "    <tr>\n",
              "      <th>137</th>\n",
              "      <td>137</td>\n",
              "      <td>39.4872</td>\n",
              "      <td>25.3846</td>\n",
              "    </tr>\n",
              "    <tr>\n",
              "      <th>138</th>\n",
              "      <td>138</td>\n",
              "      <td>91.2821</td>\n",
              "      <td>41.5385</td>\n",
              "    </tr>\n",
              "    <tr>\n",
              "      <th>139</th>\n",
              "      <td>139</td>\n",
              "      <td>50.0000</td>\n",
              "      <td>95.7692</td>\n",
              "    </tr>\n",
              "    <tr>\n",
              "      <th>140</th>\n",
              "      <td>140</td>\n",
              "      <td>47.9487</td>\n",
              "      <td>95.0000</td>\n",
              "    </tr>\n",
              "    <tr>\n",
              "      <th>141</th>\n",
              "      <td>141</td>\n",
              "      <td>44.1026</td>\n",
              "      <td>92.6923</td>\n",
              "    </tr>\n",
              "  </tbody>\n",
              "</table>\n",
              "<p>142 rows × 3 columns</p>\n",
              "</div>"
            ],
            "text/plain": [
              "     Unnamed: 0        x        y\n",
              "0             0  55.3846  97.1795\n",
              "1             1  51.5385  96.0256\n",
              "2             2  46.1538  94.4872\n",
              "3             3  42.8205  91.4103\n",
              "4             4  40.7692  88.3333\n",
              "..          ...      ...      ...\n",
              "137         137  39.4872  25.3846\n",
              "138         138  91.2821  41.5385\n",
              "139         139  50.0000  95.7692\n",
              "140         140  47.9487  95.0000\n",
              "141         141  44.1026  92.6923\n",
              "\n",
              "[142 rows x 3 columns]"
            ]
          },
          "metadata": {
            "tags": []
          },
          "execution_count": 17
        }
      ]
    },
    {
      "cell_type": "markdown",
      "metadata": {
        "id": "ZaojLtMyr4hq",
        "colab_type": "text"
      },
      "source": [
        "Variable ตั้งตัวแปร"
      ]
    },
    {
      "cell_type": "code",
      "metadata": {
        "id": "9tnirN_qrRcG",
        "colab_type": "code",
        "colab": {}
      },
      "source": [
        "table = pd.read_csv(file_path)"
      ],
      "execution_count": null,
      "outputs": []
    },
    {
      "cell_type": "markdown",
      "metadata": {
        "id": "RybnraEpsyS1",
        "colab_type": "text"
      },
      "source": [
        "เรียกใช้ตัวแปร\n"
      ]
    },
    {
      "cell_type": "code",
      "metadata": {
        "id": "FXjcKi8tsJPQ",
        "colab_type": "code",
        "colab": {
          "base_uri": "https://localhost:8080/",
          "height": 402
        },
        "outputId": "2b7c798b-708f-4946-db7a-92a189bd8183"
      },
      "source": [
        "table"
      ],
      "execution_count": null,
      "outputs": [
        {
          "output_type": "execute_result",
          "data": {
            "text/html": [
              "<div>\n",
              "<style scoped>\n",
              "    .dataframe tbody tr th:only-of-type {\n",
              "        vertical-align: middle;\n",
              "    }\n",
              "\n",
              "    .dataframe tbody tr th {\n",
              "        vertical-align: top;\n",
              "    }\n",
              "\n",
              "    .dataframe thead th {\n",
              "        text-align: right;\n",
              "    }\n",
              "</style>\n",
              "<table border=\"1\" class=\"dataframe\">\n",
              "  <thead>\n",
              "    <tr style=\"text-align: right;\">\n",
              "      <th></th>\n",
              "      <th>Unnamed: 0</th>\n",
              "      <th>x</th>\n",
              "      <th>y</th>\n",
              "    </tr>\n",
              "  </thead>\n",
              "  <tbody>\n",
              "    <tr>\n",
              "      <th>0</th>\n",
              "      <td>0</td>\n",
              "      <td>55.3846</td>\n",
              "      <td>97.1795</td>\n",
              "    </tr>\n",
              "    <tr>\n",
              "      <th>1</th>\n",
              "      <td>1</td>\n",
              "      <td>51.5385</td>\n",
              "      <td>96.0256</td>\n",
              "    </tr>\n",
              "    <tr>\n",
              "      <th>2</th>\n",
              "      <td>2</td>\n",
              "      <td>46.1538</td>\n",
              "      <td>94.4872</td>\n",
              "    </tr>\n",
              "    <tr>\n",
              "      <th>3</th>\n",
              "      <td>3</td>\n",
              "      <td>42.8205</td>\n",
              "      <td>91.4103</td>\n",
              "    </tr>\n",
              "    <tr>\n",
              "      <th>4</th>\n",
              "      <td>4</td>\n",
              "      <td>40.7692</td>\n",
              "      <td>88.3333</td>\n",
              "    </tr>\n",
              "    <tr>\n",
              "      <th>...</th>\n",
              "      <td>...</td>\n",
              "      <td>...</td>\n",
              "      <td>...</td>\n",
              "    </tr>\n",
              "    <tr>\n",
              "      <th>137</th>\n",
              "      <td>137</td>\n",
              "      <td>39.4872</td>\n",
              "      <td>25.3846</td>\n",
              "    </tr>\n",
              "    <tr>\n",
              "      <th>138</th>\n",
              "      <td>138</td>\n",
              "      <td>91.2821</td>\n",
              "      <td>41.5385</td>\n",
              "    </tr>\n",
              "    <tr>\n",
              "      <th>139</th>\n",
              "      <td>139</td>\n",
              "      <td>50.0000</td>\n",
              "      <td>95.7692</td>\n",
              "    </tr>\n",
              "    <tr>\n",
              "      <th>140</th>\n",
              "      <td>140</td>\n",
              "      <td>47.9487</td>\n",
              "      <td>95.0000</td>\n",
              "    </tr>\n",
              "    <tr>\n",
              "      <th>141</th>\n",
              "      <td>141</td>\n",
              "      <td>44.1026</td>\n",
              "      <td>92.6923</td>\n",
              "    </tr>\n",
              "  </tbody>\n",
              "</table>\n",
              "<p>142 rows × 3 columns</p>\n",
              "</div>"
            ],
            "text/plain": [
              "     Unnamed: 0        x        y\n",
              "0             0  55.3846  97.1795\n",
              "1             1  51.5385  96.0256\n",
              "2             2  46.1538  94.4872\n",
              "3             3  42.8205  91.4103\n",
              "4             4  40.7692  88.3333\n",
              "..          ...      ...      ...\n",
              "137         137  39.4872  25.3846\n",
              "138         138  91.2821  41.5385\n",
              "139         139  50.0000  95.7692\n",
              "140         140  47.9487  95.0000\n",
              "141         141  44.1026  92.6923\n",
              "\n",
              "[142 rows x 3 columns]"
            ]
          },
          "metadata": {
            "tags": []
          },
          "execution_count": 9
        }
      ]
    },
    {
      "cell_type": "markdown",
      "metadata": {
        "id": "fmkxWE7YsriZ",
        "colab_type": "text"
      },
      "source": [
        "เรียกใช้ข้อมูลบางส่วน 5 ตัวแรก"
      ]
    },
    {
      "cell_type": "code",
      "metadata": {
        "id": "kSLmxaPxsTDB",
        "colab_type": "code",
        "colab": {
          "base_uri": "https://localhost:8080/",
          "height": 195
        },
        "outputId": "b6b0c7f5-0ddb-487d-e2e0-783dfe01d0f3"
      },
      "source": [
        "table.head()"
      ],
      "execution_count": null,
      "outputs": [
        {
          "output_type": "execute_result",
          "data": {
            "text/html": [
              "<div>\n",
              "<style scoped>\n",
              "    .dataframe tbody tr th:only-of-type {\n",
              "        vertical-align: middle;\n",
              "    }\n",
              "\n",
              "    .dataframe tbody tr th {\n",
              "        vertical-align: top;\n",
              "    }\n",
              "\n",
              "    .dataframe thead th {\n",
              "        text-align: right;\n",
              "    }\n",
              "</style>\n",
              "<table border=\"1\" class=\"dataframe\">\n",
              "  <thead>\n",
              "    <tr style=\"text-align: right;\">\n",
              "      <th></th>\n",
              "      <th>Unnamed: 0</th>\n",
              "      <th>x</th>\n",
              "      <th>y</th>\n",
              "    </tr>\n",
              "  </thead>\n",
              "  <tbody>\n",
              "    <tr>\n",
              "      <th>0</th>\n",
              "      <td>0</td>\n",
              "      <td>55.3846</td>\n",
              "      <td>97.1795</td>\n",
              "    </tr>\n",
              "    <tr>\n",
              "      <th>1</th>\n",
              "      <td>1</td>\n",
              "      <td>51.5385</td>\n",
              "      <td>96.0256</td>\n",
              "    </tr>\n",
              "    <tr>\n",
              "      <th>2</th>\n",
              "      <td>2</td>\n",
              "      <td>46.1538</td>\n",
              "      <td>94.4872</td>\n",
              "    </tr>\n",
              "    <tr>\n",
              "      <th>3</th>\n",
              "      <td>3</td>\n",
              "      <td>42.8205</td>\n",
              "      <td>91.4103</td>\n",
              "    </tr>\n",
              "    <tr>\n",
              "      <th>4</th>\n",
              "      <td>4</td>\n",
              "      <td>40.7692</td>\n",
              "      <td>88.3333</td>\n",
              "    </tr>\n",
              "  </tbody>\n",
              "</table>\n",
              "</div>"
            ],
            "text/plain": [
              "   Unnamed: 0        x        y\n",
              "0           0  55.3846  97.1795\n",
              "1           1  51.5385  96.0256\n",
              "2           2  46.1538  94.4872\n",
              "3           3  42.8205  91.4103\n",
              "4           4  40.7692  88.3333"
            ]
          },
          "metadata": {
            "tags": []
          },
          "execution_count": 11
        }
      ]
    },
    {
      "cell_type": "markdown",
      "metadata": {
        "id": "QIJwle2Vs8gT",
        "colab_type": "text"
      },
      "source": [
        "เรียกใช้ข้อมูลบางส่วน 5 ตัวท้าย"
      ]
    },
    {
      "cell_type": "code",
      "metadata": {
        "id": "UjQQhowfspsA",
        "colab_type": "code",
        "colab": {
          "base_uri": "https://localhost:8080/",
          "height": 195
        },
        "outputId": "2616c061-20c8-4bf3-f938-2c866617f902"
      },
      "source": [
        "table.tail()"
      ],
      "execution_count": null,
      "outputs": [
        {
          "output_type": "execute_result",
          "data": {
            "text/html": [
              "<div>\n",
              "<style scoped>\n",
              "    .dataframe tbody tr th:only-of-type {\n",
              "        vertical-align: middle;\n",
              "    }\n",
              "\n",
              "    .dataframe tbody tr th {\n",
              "        vertical-align: top;\n",
              "    }\n",
              "\n",
              "    .dataframe thead th {\n",
              "        text-align: right;\n",
              "    }\n",
              "</style>\n",
              "<table border=\"1\" class=\"dataframe\">\n",
              "  <thead>\n",
              "    <tr style=\"text-align: right;\">\n",
              "      <th></th>\n",
              "      <th>Unnamed: 0</th>\n",
              "      <th>x</th>\n",
              "      <th>y</th>\n",
              "    </tr>\n",
              "  </thead>\n",
              "  <tbody>\n",
              "    <tr>\n",
              "      <th>137</th>\n",
              "      <td>137</td>\n",
              "      <td>39.4872</td>\n",
              "      <td>25.3846</td>\n",
              "    </tr>\n",
              "    <tr>\n",
              "      <th>138</th>\n",
              "      <td>138</td>\n",
              "      <td>91.2821</td>\n",
              "      <td>41.5385</td>\n",
              "    </tr>\n",
              "    <tr>\n",
              "      <th>139</th>\n",
              "      <td>139</td>\n",
              "      <td>50.0000</td>\n",
              "      <td>95.7692</td>\n",
              "    </tr>\n",
              "    <tr>\n",
              "      <th>140</th>\n",
              "      <td>140</td>\n",
              "      <td>47.9487</td>\n",
              "      <td>95.0000</td>\n",
              "    </tr>\n",
              "    <tr>\n",
              "      <th>141</th>\n",
              "      <td>141</td>\n",
              "      <td>44.1026</td>\n",
              "      <td>92.6923</td>\n",
              "    </tr>\n",
              "  </tbody>\n",
              "</table>\n",
              "</div>"
            ],
            "text/plain": [
              "     Unnamed: 0        x        y\n",
              "137         137  39.4872  25.3846\n",
              "138         138  91.2821  41.5385\n",
              "139         139  50.0000  95.7692\n",
              "140         140  47.9487  95.0000\n",
              "141         141  44.1026  92.6923"
            ]
          },
          "metadata": {
            "tags": []
          },
          "execution_count": 12
        }
      ]
    },
    {
      "cell_type": "markdown",
      "metadata": {
        "id": "EmLyXXX-yDrr",
        "colab_type": "text"
      },
      "source": [
        "ตัวอย่างการสร้างตัวแปรเบื้องต้น"
      ]
    },
    {
      "cell_type": "code",
      "metadata": {
        "id": "ibs5n1mGs3yM",
        "colab_type": "code",
        "colab": {}
      },
      "source": [
        "number_A = 100"
      ],
      "execution_count": null,
      "outputs": []
    },
    {
      "cell_type": "code",
      "metadata": {
        "id": "uhj6CTbtu913",
        "colab_type": "code",
        "colab": {}
      },
      "source": [
        "word_B = 'Thailand'"
      ],
      "execution_count": null,
      "outputs": []
    },
    {
      "cell_type": "code",
      "metadata": {
        "id": "9dvvUuBlvLNr",
        "colab_type": "code",
        "colab": {}
      },
      "source": [
        "number_B = 3.14"
      ],
      "execution_count": null,
      "outputs": []
    },
    {
      "cell_type": "code",
      "metadata": {
        "id": "EfLWYoQdvWac",
        "colab_type": "code",
        "colab": {
          "base_uri": "https://localhost:8080/",
          "height": 34
        },
        "outputId": "1feab628-9589-47a4-8751-1f5ad3203e3b"
      },
      "source": [
        "number_C = number_A * number_B\n",
        "\n",
        "print('number_A + number_B = ', number_C)"
      ],
      "execution_count": null,
      "outputs": [
        {
          "output_type": "stream",
          "text": [
            "number_A + number_B =  314.0\n"
          ],
          "name": "stdout"
        }
      ]
    },
    {
      "cell_type": "code",
      "metadata": {
        "id": "-d80OZv9vcLy",
        "colab_type": "code",
        "colab": {
          "base_uri": "https://localhost:8080/",
          "height": 34
        },
        "outputId": "02bb5a79-3cd2-4d7b-b1af-10957a8e4cff"
      },
      "source": [
        "word_x  = ' สู้ๆ'\n",
        "print(word_B + word_x)"
      ],
      "execution_count": null,
      "outputs": [
        {
          "output_type": "stream",
          "text": [
            "Thailand สู้ๆ\n"
          ],
          "name": "stdout"
        }
      ]
    },
    {
      "cell_type": "markdown",
      "metadata": {
        "id": "o3xidgyfwki6",
        "colab_type": "text"
      },
      "source": [
        "สร้างตัวแปรเพื่อพลอตกราฟ จากแพกเกจใหญ่ และแพคเกจ ย่อย และย่อชื่อแพคเกจ"
      ]
    },
    {
      "cell_type": "code",
      "metadata": {
        "id": "6nGU_0BpwLEc",
        "colab_type": "code",
        "colab": {}
      },
      "source": [
        "from matplotlib import pyplot as plt"
      ],
      "execution_count": null,
      "outputs": []
    },
    {
      "cell_type": "markdown",
      "metadata": {
        "id": "vwjUxwtzx-yr",
        "colab_type": "text"
      },
      "source": [
        "พล็อตจุด\n"
      ]
    },
    {
      "cell_type": "code",
      "metadata": {
        "id": "EwsgXTq6xW7T",
        "colab_type": "code",
        "colab": {
          "base_uri": "https://localhost:8080/",
          "height": 282
        },
        "outputId": "29601b87-dbfd-46c6-bd0e-dde6e7236977"
      },
      "source": [
        "plt.scatter(table['x'],table['y'])"
      ],
      "execution_count": null,
      "outputs": [
        {
          "output_type": "execute_result",
          "data": {
            "text/plain": [
              "<matplotlib.collections.PathCollection at 0x7f3cb38257b8>"
            ]
          },
          "metadata": {
            "tags": []
          },
          "execution_count": 38
        },
        {
          "output_type": "display_data",
          "data": {
            "image/png": "[encoded data removed]",
            "text/plain": [
              "<Figure size 432x288 with 1 Axes>"
            ]
          },
          "metadata": {
            "tags": [],
            "needs_background": "light"
          }
        }
      ]
    },
    {
      "cell_type": "markdown",
      "metadata": {
        "id": "dMFtmRo5yJj-",
        "colab_type": "text"
      },
      "source": [
        "พลอตจุด+ ลากเส้น\n"
      ]
    },
    {
      "cell_type": "code",
      "metadata": {
        "id": "1NeIXrHixuUr",
        "colab_type": "code",
        "colab": {
          "base_uri": "https://localhost:8080/",
          "height": 282
        },
        "outputId": "f9579067-3273-4fb3-c28b-e18fa927ed9a"
      },
      "source": [
        "plt.plot(table['x'],table['y'])"
      ],
      "execution_count": null,
      "outputs": [
        {
          "output_type": "execute_result",
          "data": {
            "text/plain": [
              "[<matplotlib.lines.Line2D at 0x7f3cb53ee160>]"
            ]
          },
          "metadata": {
            "tags": []
          },
          "execution_count": 36
        },
        {
          "output_type": "display_data",
          "data": {
            "image/png": "[encoded data removed]",
            "text/plain": [
              "<Figure size 432x288 with 1 Axes>"
            ]
          },
          "metadata": {
            "tags": [],
            "needs_background": "light"
          }
        }
      ]
    },
    {
      "cell_type": "code",
      "metadata": {
        "id": "5nU4-a3byOGm",
        "colab_type": "code",
        "colab": {
          "base_uri": "https://localhost:8080/",
          "height": 282
        },
        "outputId": "eb3fdae6-4a1f-4132-d65e-bd7667eb8dc6"
      },
      "source": [
        "plt.scatter(table['x'],100*table['y'])"
      ],
      "execution_count": null,
      "outputs": [
        {
          "output_type": "execute_result",
          "data": {
            "text/plain": [
              "<matplotlib.collections.PathCollection at 0x7f3cb36fd160>"
            ]
          },
          "metadata": {
            "tags": []
          },
          "execution_count": 40
        },
        {
          "output_type": "display_data",
          "data": {
            "image/png": "[encoded data removed]",
            "text/plain": [
              "<Figure size 432x288 with 1 Axes>"
            ]
          },
          "metadata": {
            "tags": [],
            "needs_background": "light"
          }
        }
      ]
    },
    {
      "cell_type": "code",
      "metadata": {
        "id": "iKpXx9m_21oR",
        "colab_type": "code",
        "colab": {
          "base_uri": "https://localhost:8080/",
          "height": 284
        },
        "outputId": "b101922d-711f-4b11-a1c4-994526ee1476"
      },
      "source": [
        "table.describe()"
      ],
      "execution_count": null,
      "outputs": [
        {
          "output_type": "execute_result",
          "data": {
            "text/html": [
              "<div>\n",
              "<style scoped>\n",
              "    .dataframe tbody tr th:only-of-type {\n",
              "        vertical-align: middle;\n",
              "    }\n",
              "\n",
              "    .dataframe tbody tr th {\n",
              "        vertical-align: top;\n",
              "    }\n",
              "\n",
              "    .dataframe thead th {\n",
              "        text-align: right;\n",
              "    }\n",
              "</style>\n",
              "<table border=\"1\" class=\"dataframe\">\n",
              "  <thead>\n",
              "    <tr style=\"text-align: right;\">\n",
              "      <th></th>\n",
              "      <th>Unnamed: 0</th>\n",
              "      <th>x</th>\n",
              "      <th>y</th>\n",
              "    </tr>\n",
              "  </thead>\n",
              "  <tbody>\n",
              "    <tr>\n",
              "      <th>count</th>\n",
              "      <td>142.000000</td>\n",
              "      <td>142.000000</td>\n",
              "      <td>142.000000</td>\n",
              "    </tr>\n",
              "    <tr>\n",
              "      <th>mean</th>\n",
              "      <td>70.500000</td>\n",
              "      <td>54.263273</td>\n",
              "      <td>47.832253</td>\n",
              "    </tr>\n",
              "    <tr>\n",
              "      <th>std</th>\n",
              "      <td>41.135953</td>\n",
              "      <td>16.765142</td>\n",
              "      <td>26.935403</td>\n",
              "    </tr>\n",
              "    <tr>\n",
              "      <th>min</th>\n",
              "      <td>0.000000</td>\n",
              "      <td>22.307700</td>\n",
              "      <td>2.948700</td>\n",
              "    </tr>\n",
              "    <tr>\n",
              "      <th>25%</th>\n",
              "      <td>35.250000</td>\n",
              "      <td>44.102600</td>\n",
              "      <td>25.288450</td>\n",
              "    </tr>\n",
              "    <tr>\n",
              "      <th>50%</th>\n",
              "      <td>70.500000</td>\n",
              "      <td>53.333300</td>\n",
              "      <td>46.025600</td>\n",
              "    </tr>\n",
              "    <tr>\n",
              "      <th>75%</th>\n",
              "      <td>105.750000</td>\n",
              "      <td>64.743600</td>\n",
              "      <td>68.525675</td>\n",
              "    </tr>\n",
              "    <tr>\n",
              "      <th>max</th>\n",
              "      <td>141.000000</td>\n",
              "      <td>98.205100</td>\n",
              "      <td>99.487200</td>\n",
              "    </tr>\n",
              "  </tbody>\n",
              "</table>\n",
              "</div>"
            ],
            "text/plain": [
              "       Unnamed: 0           x           y\n",
              "count  142.000000  142.000000  142.000000\n",
              "mean    70.500000   54.263273   47.832253\n",
              "std     41.135953   16.765142   26.935403\n",
              "min      0.000000   22.307700    2.948700\n",
              "25%     35.250000   44.102600   25.288450\n",
              "50%     70.500000   53.333300   46.025600\n",
              "75%    105.750000   64.743600   68.525675\n",
              "max    141.000000   98.205100   99.487200"
            ]
          },
          "metadata": {
            "tags": []
          },
          "execution_count": 42
        }
      ]
    },
    {
      "cell_type": "markdown",
      "metadata": {
        "id": "6pBHVXLa-Vnj",
        "colab_type": "text"
      },
      "source": [
        "ดึงตารางในแต่ละ Attribute ออกมา\n"
      ]
    },
    {
      "cell_type": "code",
      "metadata": {
        "id": "3uAlX7QD8A0C",
        "colab_type": "code",
        "colab": {
          "base_uri": "https://localhost:8080/",
          "height": 218
        },
        "outputId": "0e0b601a-b228-457d-eaa0-bc09f1c5d130"
      },
      "source": [
        "table['x']"
      ],
      "execution_count": null,
      "outputs": [
        {
          "output_type": "execute_result",
          "data": {
            "text/plain": [
              "0      55.3846\n",
              "1      51.5385\n",
              "2      46.1538\n",
              "3      42.8205\n",
              "4      40.7692\n",
              "        ...   \n",
              "137    39.4872\n",
              "138    91.2821\n",
              "139    50.0000\n",
              "140    47.9487\n",
              "141    44.1026\n",
              "Name: x, Length: 142, dtype: float64"
            ]
          },
          "metadata": {
            "tags": []
          },
          "execution_count": 43
        }
      ]
    },
    {
      "cell_type": "code",
      "metadata": {
        "id": "ytauDXXg-QW1",
        "colab_type": "code",
        "colab": {
          "base_uri": "https://localhost:8080/",
          "height": 218
        },
        "outputId": "197d0146-63e2-40d7-8331-6dc8df9ead8d"
      },
      "source": [
        "table.x"
      ],
      "execution_count": null,
      "outputs": [
        {
          "output_type": "execute_result",
          "data": {
            "text/plain": [
              "0      55.3846\n",
              "1      51.5385\n",
              "2      46.1538\n",
              "3      42.8205\n",
              "4      40.7692\n",
              "        ...   \n",
              "137    39.4872\n",
              "138    91.2821\n",
              "139    50.0000\n",
              "140    47.9487\n",
              "141    44.1026\n",
              "Name: x, Length: 142, dtype: float64"
            ]
          },
          "metadata": {
            "tags": []
          },
          "execution_count": 44
        }
      ]
    },
    {
      "cell_type": "markdown",
      "metadata": {
        "id": "v7ehX5xC-zn-",
        "colab_type": "text"
      },
      "source": [
        "# Data Structure หมายถึง โครงสร้างของข้อมูล\n",
        "### ~~~ Variable ~~~\n",
        "### ~~~ Data Frame ~~~\n",
        "### List() หมายถึง รายการของข้อมูล ชื่อตัวแปร\n"
      ]
    },
    {
      "cell_type": "code",
      "metadata": {
        "id": "-7TzWrOs-TkD",
        "colab_type": "code",
        "colab": {
          "base_uri": "https://localhost:8080/",
          "height": 34
        },
        "outputId": "7643ca29-a617-4e15-ae4c-11dcf7f0528e"
      },
      "source": [
        "list_a = [ 1, 3, 5, 7]\n",
        "list_a"
      ],
      "execution_count": 115,
      "outputs": [
        {
          "output_type": "execute_result",
          "data": {
            "text/plain": [
              "[1, 3, 5, 7]"
            ]
          },
          "metadata": {
            "tags": []
          },
          "execution_count": 115
        }
      ]
    },
    {
      "cell_type": "code",
      "metadata": {
        "id": "0SSs_ivV_uqs",
        "colab_type": "code",
        "colab": {
          "base_uri": "https://localhost:8080/",
          "height": 34
        },
        "outputId": "ddeddae1-e25c-46e7-c156-961786798144"
      },
      "source": [
        "list_a[0]"
      ],
      "execution_count": null,
      "outputs": [
        {
          "output_type": "execute_result",
          "data": {
            "text/plain": [
              "1"
            ]
          },
          "metadata": {
            "tags": []
          },
          "execution_count": 48
        }
      ]
    },
    {
      "cell_type": "code",
      "metadata": {
        "id": "oFyOmPC4_5dJ",
        "colab_type": "code",
        "colab": {
          "base_uri": "https://localhost:8080/",
          "height": 34
        },
        "outputId": "331b8cc8-5eea-4e32-c7a3-79a51a9de118"
      },
      "source": [
        "list_a[-1]"
      ],
      "execution_count": null,
      "outputs": [
        {
          "output_type": "execute_result",
          "data": {
            "text/plain": [
              "7"
            ]
          },
          "metadata": {
            "tags": []
          },
          "execution_count": 49
        }
      ]
    },
    {
      "cell_type": "markdown",
      "metadata": {
        "id": "3nAtTVqlAhQl",
        "colab_type": "text"
      },
      "source": [
        "len ย่อมาจาก length คือ ความยาว\n"
      ]
    },
    {
      "cell_type": "code",
      "metadata": {
        "id": "7CwhLIL-AIr9",
        "colab_type": "code",
        "colab": {
          "base_uri": "https://localhost:8080/",
          "height": 34
        },
        "outputId": "be9886b9-3567-4cd2-d7a6-5c563807b6c2"
      },
      "source": [
        "len(list_a)"
      ],
      "execution_count": null,
      "outputs": [
        {
          "output_type": "execute_result",
          "data": {
            "text/plain": [
              "4"
            ]
          },
          "metadata": {
            "tags": []
          },
          "execution_count": 50
        }
      ]
    },
    {
      "cell_type": "code",
      "metadata": {
        "id": "JwUHdQt6AnuZ",
        "colab_type": "code",
        "colab": {
          "base_uri": "https://localhost:8080/",
          "height": 34
        },
        "outputId": "8751e900-eb28-4e60-dc22-93726316c67d"
      },
      "source": [
        "sum(list_a)"
      ],
      "execution_count": null,
      "outputs": [
        {
          "output_type": "execute_result",
          "data": {
            "text/plain": [
              "16"
            ]
          },
          "metadata": {
            "tags": []
          },
          "execution_count": 51
        }
      ]
    },
    {
      "cell_type": "markdown",
      "metadata": {
        "id": "jkmel00sBQEI",
        "colab_type": "text"
      },
      "source": [
        "เริ่มจาก list ว่าง แบบที่ 1\n"
      ]
    },
    {
      "cell_type": "code",
      "metadata": {
        "id": "f2_XevXwBBcw",
        "colab_type": "code",
        "colab": {
          "base_uri": "https://localhost:8080/",
          "height": 34
        },
        "outputId": "14a97dcb-3866-48fd-af7c-de7d65f136fb"
      },
      "source": [
        "list_z = []\n",
        "print(len(list_z))"
      ],
      "execution_count": 110,
      "outputs": [
        {
          "output_type": "stream",
          "text": [
            "0\n"
          ],
          "name": "stdout"
        }
      ]
    },
    {
      "cell_type": "markdown",
      "metadata": {
        "id": "K7AMC68fBU_i",
        "colab_type": "text"
      },
      "source": [
        "เริ่มจาก list ว่าง แบบที่ 2"
      ]
    },
    {
      "cell_type": "code",
      "metadata": {
        "id": "moCvhACZBJtl",
        "colab_type": "code",
        "colab": {
          "base_uri": "https://localhost:8080/",
          "height": 34
        },
        "outputId": "03c66779-853b-4f36-bb1e-3b2c69e94056"
      },
      "source": [
        "list_z2 = list()\n",
        "print(len(list_z2))"
      ],
      "execution_count": null,
      "outputs": [
        {
          "output_type": "stream",
          "text": [
            "0\n"
          ],
          "name": "stdout"
        }
      ]
    },
    {
      "cell_type": "markdown",
      "metadata": {
        "id": "aJq7jkszB0hK",
        "colab_type": "text"
      },
      "source": [
        "เพิ่มสมาชิกเข้ามาใน list\n"
      ]
    },
    {
      "cell_type": "code",
      "metadata": {
        "id": "HV0UvPeWBeqH",
        "colab_type": "code",
        "colab": {
          "base_uri": "https://localhost:8080/",
          "height": 34
        },
        "outputId": "f618730b-6ce5-434d-9d5e-3674e0a94fa2"
      },
      "source": [
        "list_z.append(7)\n",
        "print(list_z)"
      ],
      "execution_count": 111,
      "outputs": [
        {
          "output_type": "stream",
          "text": [
            "[7]\n"
          ],
          "name": "stdout"
        }
      ]
    },
    {
      "cell_type": "code",
      "metadata": {
        "id": "4VAsNg2rB56-",
        "colab_type": "code",
        "colab": {
          "base_uri": "https://localhost:8080/",
          "height": 34
        },
        "outputId": "548625dc-8cc1-49f4-bb24-581dc89bfd3c"
      },
      "source": [
        "list_z.append('stat')\n",
        "print(list_z)"
      ],
      "execution_count": 112,
      "outputs": [
        {
          "output_type": "stream",
          "text": [
            "[7, 'stat']\n"
          ],
          "name": "stdout"
        }
      ]
    },
    {
      "cell_type": "code",
      "metadata": {
        "id": "A5VKGFOBCOdt",
        "colab_type": "code",
        "colab": {
          "base_uri": "https://localhost:8080/",
          "height": 34
        },
        "outputId": "ac6a8f05-42d4-4b69-d347-365c2b659cd5"
      },
      "source": [
        "list_z.append(list_a)\n",
        "print(list_z)"
      ],
      "execution_count": 116,
      "outputs": [
        {
          "output_type": "stream",
          "text": [
            "[7, 'stat', [1, 3], [1, 3, 5, 7]]\n"
          ],
          "name": "stdout"
        }
      ]
    },
    {
      "cell_type": "code",
      "metadata": {
        "id": "lqAU9K-qCks_",
        "colab_type": "code",
        "colab": {}
      },
      "source": [
        "## del list_z[1:3]"
      ],
      "execution_count": null,
      "outputs": []
    },
    {
      "cell_type": "code",
      "metadata": {
        "id": "agP2g7MYC6ST",
        "colab_type": "code",
        "colab": {
          "base_uri": "https://localhost:8080/",
          "height": 34
        },
        "outputId": "fc6c7343-3e31-47c1-dd07-6fca33e78477"
      },
      "source": [
        "print(list_z)"
      ],
      "execution_count": 114,
      "outputs": [
        {
          "output_type": "stream",
          "text": [
            "[7, 'stat', [1, 3]]\n"
          ],
          "name": "stdout"
        }
      ]
    },
    {
      "cell_type": "markdown",
      "metadata": {
        "id": "E5Gq0oyRCsqM",
        "colab_type": "text"
      },
      "source": [
        "## Q1 ดึงค่า เลข 5 ออกมาจาก list_z\n"
      ]
    },
    {
      "cell_type": "code",
      "metadata": {
        "id": "y8sNJrvBDkCW",
        "colab_type": "code",
        "colab": {
          "base_uri": "https://localhost:8080/",
          "height": 178
        },
        "outputId": "11a1dfc5-3f80-4555-fed5-20a63f9e1e78"
      },
      "source": [
        "Q1 = list_z[2]\n",
        "print('Number_lis =',Q1[2])"
      ],
      "execution_count": 109,
      "outputs": [
        {
          "output_type": "error",
          "ename": "IndexError",
          "evalue": "ignored",
          "traceback": [
            "\u001b[0;31m---------------------------------------------------------------------------\u001b[0m",
            "\u001b[0;31mIndexError\u001b[0m                                Traceback (most recent call last)",
            "\u001b[0;32m<ipython-input-109-be16b4f6784b>\u001b[0m in \u001b[0;36m<module>\u001b[0;34m()\u001b[0m\n\u001b[1;32m      1\u001b[0m \u001b[0mQ1\u001b[0m \u001b[0;34m=\u001b[0m \u001b[0mlist_z\u001b[0m\u001b[0;34m[\u001b[0m\u001b[0;36m2\u001b[0m\u001b[0;34m]\u001b[0m\u001b[0;34m\u001b[0m\u001b[0;34m\u001b[0m\u001b[0m\n\u001b[0;32m----> 2\u001b[0;31m \u001b[0mprint\u001b[0m\u001b[0;34m(\u001b[0m\u001b[0;34m'Number_lis ='\u001b[0m\u001b[0;34m,\u001b[0m\u001b[0mQ1\u001b[0m\u001b[0;34m[\u001b[0m\u001b[0;36m2\u001b[0m\u001b[0;34m]\u001b[0m\u001b[0;34m)\u001b[0m\u001b[0;34m\u001b[0m\u001b[0;34m\u001b[0m\u001b[0m\n\u001b[0m",
            "\u001b[0;31mIndexError\u001b[0m: list index out of range"
          ]
        }
      ]
    },
    {
      "cell_type": "markdown",
      "metadata": {
        "id": "frqeAmULDTkW",
        "colab_type": "text"
      },
      "source": [
        "## Data Type Casting ( int(),float(),str())"
      ]
    },
    {
      "cell_type": "code",
      "metadata": {
        "id": "g1QS1x0KC7uc",
        "colab_type": "code",
        "colab": {
          "base_uri": "https://localhost:8080/",
          "height": 34
        },
        "outputId": "67d2db1c-b004-4e29-97fb-ac19bfbe4474"
      },
      "source": [
        "a = '14'\n",
        "print(a)"
      ],
      "execution_count": null,
      "outputs": [
        {
          "output_type": "stream",
          "text": [
            "14\n"
          ],
          "name": "stdout"
        }
      ]
    },
    {
      "cell_type": "code",
      "metadata": {
        "id": "WueoyvzhDZKO",
        "colab_type": "code",
        "colab": {
          "base_uri": "https://localhost:8080/",
          "height": 128
        },
        "outputId": "b1eca4ab-59f3-48a8-ad77-c7a689ea4276"
      },
      "source": [
        "b = 16\n",
        "print a + b\n"
      ],
      "execution_count": null,
      "outputs": [
        {
          "output_type": "error",
          "ename": "SyntaxError",
          "evalue": "ignored",
          "traceback": [
            "\u001b[0;36m  File \u001b[0;32m\"<ipython-input-73-1a38619042bf>\"\u001b[0;36m, line \u001b[0;32m2\u001b[0m\n\u001b[0;31m    print a + b\u001b[0m\n\u001b[0m          ^\u001b[0m\n\u001b[0;31mSyntaxError\u001b[0m\u001b[0;31m:\u001b[0m Missing parentheses in call to 'print'. Did you mean print(a + b)?\n"
          ]
        }
      ]
    },
    {
      "cell_type": "code",
      "metadata": {
        "id": "Uj6XQVhFDr9i",
        "colab_type": "code",
        "colab": {
          "base_uri": "https://localhost:8080/",
          "height": 34
        },
        "outputId": "b0e70b76-bbf9-45c0-98b7-5ce99e75ea23"
      },
      "source": [
        "c = int(a) + b\n",
        "print(c)"
      ],
      "execution_count": null,
      "outputs": [
        {
          "output_type": "stream",
          "text": [
            "30\n"
          ],
          "name": "stdout"
        }
      ]
    },
    {
      "cell_type": "code",
      "metadata": {
        "id": "YZh-XFF_EIB6",
        "colab_type": "code",
        "colab": {
          "base_uri": "https://localhost:8080/",
          "height": 178
        },
        "outputId": "b3991f1e-4be5-4d8d-97f5-e627f6176fd9"
      },
      "source": [
        "D = '1.41'\n",
        "int(D)"
      ],
      "execution_count": null,
      "outputs": [
        {
          "output_type": "error",
          "ename": "ValueError",
          "evalue": "ignored",
          "traceback": [
            "\u001b[0;31m---------------------------------------------------------------------------\u001b[0m",
            "\u001b[0;31mValueError\u001b[0m                                Traceback (most recent call last)",
            "\u001b[0;32m<ipython-input-83-fe3af62f7ed2>\u001b[0m in \u001b[0;36m<module>\u001b[0;34m()\u001b[0m\n\u001b[1;32m      1\u001b[0m \u001b[0mD\u001b[0m \u001b[0;34m=\u001b[0m \u001b[0;34m'1.41'\u001b[0m\u001b[0;34m\u001b[0m\u001b[0;34m\u001b[0m\u001b[0m\n\u001b[0;32m----> 2\u001b[0;31m \u001b[0mint\u001b[0m\u001b[0;34m(\u001b[0m\u001b[0mD\u001b[0m\u001b[0;34m)\u001b[0m\u001b[0;34m\u001b[0m\u001b[0;34m\u001b[0m\u001b[0m\n\u001b[0m",
            "\u001b[0;31mValueError\u001b[0m: invalid literal for int() with base 10: '1.41'"
          ]
        }
      ]
    },
    {
      "cell_type": "code",
      "metadata": {
        "id": "Mpy5Qtn_Egb4",
        "colab_type": "code",
        "colab": {
          "base_uri": "https://localhost:8080/",
          "height": 34
        },
        "outputId": "26dd126c-a22f-4d22-e59e-7caaf63ae972"
      },
      "source": [
        "print(float(D))"
      ],
      "execution_count": null,
      "outputs": [
        {
          "output_type": "stream",
          "text": [
            "1.41\n"
          ],
          "name": "stdout"
        }
      ]
    },
    {
      "cell_type": "code",
      "metadata": {
        "id": "0AxGK_9RElP1",
        "colab_type": "code",
        "colab": {
          "base_uri": "https://localhost:8080/",
          "height": 35
        },
        "outputId": "98543760-0186-4709-89f4-7373270f1645"
      },
      "source": [
        "str(b)"
      ],
      "execution_count": null,
      "outputs": [
        {
          "output_type": "execute_result",
          "data": {
            "application/vnd.google.colaboratory.intrinsic+json": {
              "type": "string"
            },
            "text/plain": [
              "'16'"
            ]
          },
          "metadata": {
            "tags": []
          },
          "execution_count": 85
        }
      ]
    },
    {
      "cell_type": "markdown",
      "metadata": {
        "id": "6e0TEaoCFZil",
        "colab_type": "text"
      },
      "source": [
        "## Q2 แปลงค่าของ D ให้เป็น จำนวนเต็ม ด้วยฟังก์ชั้น Casting\n"
      ]
    },
    {
      "cell_type": "code",
      "metadata": {
        "id": "-CmK4e-bE5-S",
        "colab_type": "code",
        "colab": {
          "base_uri": "https://localhost:8080/",
          "height": 50
        },
        "outputId": "ed3f943c-a032-4c6f-c61e-0848a07c7470"
      },
      "source": [
        "D2 = float(D)\n",
        "print(D2)\n",
        "print(int(D2))"
      ],
      "execution_count": 108,
      "outputs": [
        {
          "output_type": "stream",
          "text": [
            "1.41\n",
            "1\n"
          ],
          "name": "stdout"
        }
      ]
    },
    {
      "cell_type": "code",
      "metadata": {
        "id": "R2xE9UnhGKDb",
        "colab_type": "code",
        "colab": {}
      },
      "source": [
        ""
      ],
      "execution_count": 108,
      "outputs": []
    }
  ]
}