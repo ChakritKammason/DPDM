{
  "nbformat": 4,
  "nbformat_minor": 0,
  "metadata": {
    "colab": {
      "name": "Final Exam 2020.ipynb",
      "provenance": [],
      "include_colab_link": true
    },
    "kernelspec": {
      "name": "python3",
      "display_name": "Python 3"
    }
  },
  "cells": [
    {
      "cell_type": "markdown",
      "metadata": {
        "id": "view-in-github",
        "colab_type": "text"
      },
      "source": [
        "<a href=\"https://colab.research.google.com/github/ChakritKammason/DPDM/blob/master/Final_Exam_2020.ipynb\" target=\"_parent\"><img src=\"https://colab.research.google.com/assets/colab-badge.svg\" alt=\"Open In Colab\"/></a>"
      ]
    },
    {
      "cell_type": "markdown",
      "metadata": {
        "id": "APlaB9l9CeBy"
      },
      "source": [
        "1. จากข้อมูล (```w_restaurant.csv```, ```search_click.csv```, ```search_request.csv```) ใน http://qr.tebs.io/TTGDFf สร้าง model เพื่อทำนาย (Classification) ว่าผลการ search เป็นร้านอาหารหรือไม่(```is_food = = True```) โดยพิจารณาจาก \n",
        "- วันในสัปดาห์ที่ทำการ search (```Monday-Sunday```) \n",
        "- วันในที่ทำการ search (```1-31```)\n",
        "- เวลาที่ทำการ search (```1-24```)\n",
        "\n",
        "หมายเหตุที่ 1 สามารถใช้ function ที่ให้มาช่วยในการทำงานได้\n",
        "1. ```extract_time()``` ซึ่ง input เป็น ```timestamp``` และ output เป็น ```เวลาที่ทำการ search```, ```วันที่ทำการ search```, ```วันในสัปดาห์ที่ทำการ search```\n",
        "\n",
        "2. ```is_food()``` ซึ่ง input เป็น ```category_name``` และ ```output``` เป็น คำตอบว่า ```เป็นร้านอาหารหรือไม่```\n",
        "\n",
        "หมายเหตุที่ 2 ควรเตรียมข้อมูลโดยรวมข้อมูลจาก ตาราง ```w_restaurant.csv```, ```search_click.csv```, ```search_request.csv``` ให้ได้ในรูปแบบ ต่อไปนี้\n",
        "![exam_table.PNG](data:image/png;base64,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)\n",
        "\n",
        "(150 คะแนน)"
      ]
    },
    {
      "cell_type": "code",
      "metadata": {
        "id": "212B1ztJIgtU"
      },
      "source": [
        "import datetime\n",
        "def extract_time(datetime_s):\n",
        "    EX_date = datetime.datetime.strptime(datetime_s, \"%Y-%m-%d %H:%M:%S.%f\")\n",
        "    return EX_date.hour, EX_date.day, get_day(EX_date.weekday()) \n",
        "\n",
        "def get_day(D):\n",
        "    weekdays = ['Monday','Tuesday','Wednesday','Thursday','Friday','Saturday','Sunday']\n",
        "    return weekdays[D] \n",
        "\n",
        "def is_food(inp):\n",
        "    food_list = ['Vegeterian','Sushi','Sukiyaki/Shabu','Street Food/Food Stands','Steak House/Barbeque','Southern Food','Seafood','Ramen','Quick Meal','Pizza','Northern Food','Noodles','Mexican','Korean',\n",
        "             'Japanese','Italian','Izakaya','Healthy Food','German Food','Fusion Food','French','Food Truck','Fastfood','Dim Sum','Delivery Only','Chinese','Cafe','Café/Coffee Shop','Buffet',\n",
        "             'Breakfast/Brunch','Bakery/Cake','Barbeque/Grill','American']\n",
        "    return inp in food_list"
      ],
      "execution_count": 52,
      "outputs": []
    },
    {
      "cell_type": "markdown",
      "metadata": {
        "id": "zm8mN3OAIpJE"
      },
      "source": [
        "2. จากข้อมูล (```reduced_marketbasket.csv```) ใน http://qr.tebs.io/TTGDFf ให้เปรียบเทียบ รูปแบบ การซื้อที่น่าสนใจเป็นราย Transaction ของประชากรใน ประเทศ ```United Kingdom``` กับ ประเทศอื่นๆ (```'Country'!='United Kingdom'```)\n",
        "\n",
        "(40 คะแนน)"
      ]
    },
    {
      "cell_type": "markdown",
      "metadata": {
        "id": "uhgCU6TcKX9v"
      },
      "source": [
        "3. เขียนคำศัพท์ที่ได้เรียนในวิชาพร้อมทั้งคำนิยามที่เป็นคำพูดของนักศึกษาเอง (ห้าม search google) 20 คำ\n",
        "\n",
        "(คำละ 0.5 คะแนน)"
      ]
    },
    {
      "cell_type": "markdown",
      "metadata": {
        "id": "E6dGRYT3cei-"
      },
      "source": [
        "# ข้อ 1 "
      ]
    },
    {
      "cell_type": "code",
      "metadata": {
        "id": "fy15ZtjGceWf",
        "outputId": "843ca703-1784-4c5c-f08d-43c27a312393",
        "colab": {
          "base_uri": "https://localhost:8080/"
        }
      },
      "source": [
        "import pandas as pd\n",
        "from google.colab import drive\n",
        "drive.mount('/content/drive')\n",
        "import os\n",
        "base_path = '/content/drive/My Drive/DWDM_Material'\n",
        "os.listdir(base_path)"
      ],
      "execution_count": 1,
      "outputs": [
        {
          "output_type": "stream",
          "text": [
            "Drive already mounted at /content/drive; to attempt to forcibly remount, call drive.mount(\"/content/drive\", force_remount=True).\n"
          ],
          "name": "stdout"
        },
        {
          "output_type": "execute_result",
          "data": {
            "text/plain": [
              "['teach.csv',\n",
              " '03 สังคม.xls',\n",
              " '52835793_259306464964511_3851804852342489088_n.png',\n",
              " 'Copy of search_click.csv',\n",
              " 'Copy of w_restaurant.csv',\n",
              " 'Preprocessing02.html',\n",
              " 'reduced_marketbasket.csv',\n",
              " 'search_click.csv',\n",
              " 'teach02.csv',\n",
              " 'test.csv',\n",
              " 'w_restaurant.csv',\n",
              " 'AnimalsPlague.csv',\n",
              " '666d790734bee7737c0b5144c462b9b5.jpg',\n",
              " 'AnimalPlague.csv',\n",
              " 'AnimalsCorn.csv',\n",
              " 'Local.xlsx',\n",
              " 'Local.csv',\n",
              " 'AnimalCorn.csv',\n",
              " 'AnimalCorn.xlsx',\n",
              " 'metadata.xlsx',\n",
              " 'search_request.csv']"
            ]
          },
          "metadata": {
            "tags": []
          },
          "execution_count": 1
        }
      ]
    },
    {
      "cell_type": "code",
      "metadata": {
        "id": "x64wdnYrdIwb"
      },
      "source": [
        "search_click = os.path.join(base_path,'search_click.csv')\n",
        "w_restaurant = os.path.join(base_path,'w_restaurant.csv')\n",
        "search_request = os.path.join(base_path, 'search_request.csv')"
      ],
      "execution_count": 2,
      "outputs": []
    },
    {
      "cell_type": "code",
      "metadata": {
        "id": "Cx2c3V0qeUUV",
        "outputId": "bcdca82c-6289-4626-9efa-14694887318c",
        "colab": {
          "base_uri": "https://localhost:8080/"
        }
      },
      "source": [
        "search_click_df = pd.read_csv(search_click)\n",
        "w_restaurant_df = pd.read_csv(w_restaurant)\n",
        "search_request_df = pd.read_csv(search_request)"
      ],
      "execution_count": 3,
      "outputs": [
        {
          "output_type": "stream",
          "text": [
            "/usr/local/lib/python3.6/dist-packages/IPython/core/interactiveshell.py:2718: DtypeWarning: Columns (7,8,9) have mixed types.Specify dtype option on import or set low_memory=False.\n",
            "  interactivity=interactivity, compiler=compiler, result=result)\n"
          ],
          "name": "stderr"
        }
      ]
    },
    {
      "cell_type": "code",
      "metadata": {
        "id": "jZ-fZ8-4uOaS"
      },
      "source": [
        "table = search_click_df.merge(w_restaurant_df,how='left',left_on='business_id',right_on='id') # รวมตาราง search_click_df และ w_restaurant_df โดยใช้ business_id และ id เป็นตัวเชื่อม"
      ],
      "execution_count": 4,
      "outputs": []
    },
    {
      "cell_type": "code",
      "metadata": {
        "id": "6YLGkCC6f61L"
      },
      "source": [
        "table1 = pd.merge(table,search_request_df,on='search_id') # รวมตาราง table 1 และ search_request_df ด้วย search_id"
      ],
      "execution_count": 5,
      "outputs": []
    },
    {
      "cell_type": "code",
      "metadata": {
        "id": "u6aJJGDfmyHn"
      },
      "source": [
        "table2 = table1[['search_id', 'business_id', 'search_timestamp', 'lat','long','category_name']] # เลือก column ที่ต้องการ"
      ],
      "execution_count": 6,
      "outputs": []
    },
    {
      "cell_type": "code",
      "metadata": {
        "id": "-PfJj4V1vgPT"
      },
      "source": [
        "search_click_df = []\n",
        "w_restaurant_df = []\n",
        "search_request_df = []\n",
        "table = []\n",
        "table1 = []"
      ],
      "execution_count": 7,
      "outputs": []
    },
    {
      "cell_type": "code",
      "metadata": {
        "id": "uWf7NzXxBLvX",
        "outputId": "00ccd89e-17ac-41db-c97d-ad494d4ec954",
        "colab": {
          "base_uri": "https://localhost:8080/",
          "height": 404
        }
      },
      "source": [
        "table2"
      ],
      "execution_count": 8,
      "outputs": [
        {
          "output_type": "execute_result",
          "data": {
            "text/html": [
              "<div>\n",
              "<style scoped>\n",
              "    .dataframe tbody tr th:only-of-type {\n",
              "        vertical-align: middle;\n",
              "    }\n",
              "\n",
              "    .dataframe tbody tr th {\n",
              "        vertical-align: top;\n",
              "    }\n",
              "\n",
              "    .dataframe thead th {\n",
              "        text-align: right;\n",
              "    }\n",
              "</style>\n",
              "<table border=\"1\" class=\"dataframe\">\n",
              "  <thead>\n",
              "    <tr style=\"text-align: right;\">\n",
              "      <th></th>\n",
              "      <th>search_id</th>\n",
              "      <th>business_id</th>\n",
              "      <th>search_timestamp</th>\n",
              "      <th>lat</th>\n",
              "      <th>long</th>\n",
              "      <th>category_name</th>\n",
              "    </tr>\n",
              "  </thead>\n",
              "  <tbody>\n",
              "    <tr>\n",
              "      <th>0</th>\n",
              "      <td>ac28033e-5236-4070-a2ab-92ffb6c9bad3</td>\n",
              "      <td>108813.0</td>\n",
              "      <td>2018-06-15 05:18:07.583</td>\n",
              "      <td>13.7945</td>\n",
              "      <td>100.613</td>\n",
              "      <td>Bakery/Cake</td>\n",
              "    </tr>\n",
              "    <tr>\n",
              "      <th>1</th>\n",
              "      <td>ac28033e-5236-4070-a2ab-92ffb6c9bad3</td>\n",
              "      <td>108813.0</td>\n",
              "      <td>2018-06-15 05:18:07.583</td>\n",
              "      <td>13.7945</td>\n",
              "      <td>100.613</td>\n",
              "      <td>Bakery/Cake</td>\n",
              "    </tr>\n",
              "    <tr>\n",
              "      <th>2</th>\n",
              "      <td>ac28033e-5236-4070-a2ab-92ffb6c9bad3</td>\n",
              "      <td>232676.0</td>\n",
              "      <td>2018-06-15 05:18:07.583</td>\n",
              "      <td>13.7945</td>\n",
              "      <td>100.613</td>\n",
              "      <td>Quick Meal</td>\n",
              "    </tr>\n",
              "    <tr>\n",
              "      <th>3</th>\n",
              "      <td>5f84bca7-bdac-4ce9-83e6-a5eaa02d4980</td>\n",
              "      <td>142707.0</td>\n",
              "      <td>2018-06-15 05:19:08.797</td>\n",
              "      <td>13.8128</td>\n",
              "      <td>100.443</td>\n",
              "      <td>Sushi</td>\n",
              "    </tr>\n",
              "    <tr>\n",
              "      <th>4</th>\n",
              "      <td>47748c4e-0761-476c-8232-4f8b1d1ddfdc</td>\n",
              "      <td>140897.0</td>\n",
              "      <td>2018-06-15 05:31:59.616</td>\n",
              "      <td>13.7318</td>\n",
              "      <td>100.569</td>\n",
              "      <td>Cafe</td>\n",
              "    </tr>\n",
              "    <tr>\n",
              "      <th>...</th>\n",
              "      <td>...</td>\n",
              "      <td>...</td>\n",
              "      <td>...</td>\n",
              "      <td>...</td>\n",
              "      <td>...</td>\n",
              "      <td>...</td>\n",
              "    </tr>\n",
              "    <tr>\n",
              "      <th>4428445</th>\n",
              "      <td>9c0e3c40-56a2-4d5d-b54e-c4d88f89f008</td>\n",
              "      <td>250231.0</td>\n",
              "      <td>2018-06-28 06:41:16.944</td>\n",
              "      <td>12.573</td>\n",
              "      <td>99.9558</td>\n",
              "      <td>Cafe</td>\n",
              "    </tr>\n",
              "    <tr>\n",
              "      <th>4428446</th>\n",
              "      <td>9ecd2dc1-b6f6-486d-b751-33eb16c53951</td>\n",
              "      <td>16614.0</td>\n",
              "      <td>2018-06-28 01:59:06.275</td>\n",
              "      <td>13.758</td>\n",
              "      <td>100.56</td>\n",
              "      <td>Healthy Food</td>\n",
              "    </tr>\n",
              "    <tr>\n",
              "      <th>4428447</th>\n",
              "      <td>9ecd2dc1-b6f6-486d-b751-33eb16c53951</td>\n",
              "      <td>16614.0</td>\n",
              "      <td>2018-06-28 01:59:06.275</td>\n",
              "      <td>13.758</td>\n",
              "      <td>100.56</td>\n",
              "      <td>Healthy Food</td>\n",
              "    </tr>\n",
              "    <tr>\n",
              "      <th>4428448</th>\n",
              "      <td>d086453d-7fde-4766-af39-8205f0f0a4aa</td>\n",
              "      <td>19569.0</td>\n",
              "      <td>2018-06-28 06:48:45.175</td>\n",
              "      <td>12.9324</td>\n",
              "      <td>100.885</td>\n",
              "      <td>Cafe</td>\n",
              "    </tr>\n",
              "    <tr>\n",
              "      <th>4428449</th>\n",
              "      <td>d157eba1-15e6-4f7a-b090-27a311d976a0</td>\n",
              "      <td>227719.0</td>\n",
              "      <td>2018-06-28 06:35:34.618</td>\n",
              "      <td>13.6908</td>\n",
              "      <td>101.083</td>\n",
              "      <td>Thai</td>\n",
              "    </tr>\n",
              "  </tbody>\n",
              "</table>\n",
              "<p>4428450 rows × 6 columns</p>\n",
              "</div>"
            ],
            "text/plain": [
              "                                    search_id  ...  category_name\n",
              "0        ac28033e-5236-4070-a2ab-92ffb6c9bad3  ...    Bakery/Cake\n",
              "1        ac28033e-5236-4070-a2ab-92ffb6c9bad3  ...    Bakery/Cake\n",
              "2        ac28033e-5236-4070-a2ab-92ffb6c9bad3  ...     Quick Meal\n",
              "3        5f84bca7-bdac-4ce9-83e6-a5eaa02d4980  ...          Sushi\n",
              "4        47748c4e-0761-476c-8232-4f8b1d1ddfdc  ...           Cafe\n",
              "...                                       ...  ...            ...\n",
              "4428445  9c0e3c40-56a2-4d5d-b54e-c4d88f89f008  ...           Cafe\n",
              "4428446  9ecd2dc1-b6f6-486d-b751-33eb16c53951  ...   Healthy Food\n",
              "4428447  9ecd2dc1-b6f6-486d-b751-33eb16c53951  ...   Healthy Food\n",
              "4428448  d086453d-7fde-4766-af39-8205f0f0a4aa  ...           Cafe\n",
              "4428449  d157eba1-15e6-4f7a-b090-27a311d976a0  ...           Thai\n",
              "\n",
              "[4428450 rows x 6 columns]"
            ]
          },
          "metadata": {
            "tags": []
          },
          "execution_count": 8
        }
      ]
    },
    {
      "cell_type": "markdown",
      "metadata": {
        "id": "1SpRhvjY0ewz"
      },
      "source": [
        "กำจัดค่า Missing"
      ]
    },
    {
      "cell_type": "code",
      "metadata": {
        "id": "2F9GHgnt0bNt",
        "outputId": "1eb95c72-894b-41cc-d215-ab5d190e8e0d",
        "colab": {
          "base_uri": "https://localhost:8080/",
          "height": 404
        }
      },
      "source": [
        "table2.isnull() #เช็คค่าในตารางว่ามี Outlier ไหม"
      ],
      "execution_count": 12,
      "outputs": [
        {
          "output_type": "execute_result",
          "data": {
            "text/html": [
              "<div>\n",
              "<style scoped>\n",
              "    .dataframe tbody tr th:only-of-type {\n",
              "        vertical-align: middle;\n",
              "    }\n",
              "\n",
              "    .dataframe tbody tr th {\n",
              "        vertical-align: top;\n",
              "    }\n",
              "\n",
              "    .dataframe thead th {\n",
              "        text-align: right;\n",
              "    }\n",
              "</style>\n",
              "<table border=\"1\" class=\"dataframe\">\n",
              "  <thead>\n",
              "    <tr style=\"text-align: right;\">\n",
              "      <th></th>\n",
              "      <th>search_id</th>\n",
              "      <th>business_id</th>\n",
              "      <th>search_timestamp</th>\n",
              "      <th>lat</th>\n",
              "      <th>long</th>\n",
              "      <th>category_name</th>\n",
              "    </tr>\n",
              "  </thead>\n",
              "  <tbody>\n",
              "    <tr>\n",
              "      <th>0</th>\n",
              "      <td>False</td>\n",
              "      <td>False</td>\n",
              "      <td>False</td>\n",
              "      <td>False</td>\n",
              "      <td>False</td>\n",
              "      <td>False</td>\n",
              "    </tr>\n",
              "    <tr>\n",
              "      <th>1</th>\n",
              "      <td>False</td>\n",
              "      <td>False</td>\n",
              "      <td>False</td>\n",
              "      <td>False</td>\n",
              "      <td>False</td>\n",
              "      <td>False</td>\n",
              "    </tr>\n",
              "    <tr>\n",
              "      <th>2</th>\n",
              "      <td>False</td>\n",
              "      <td>False</td>\n",
              "      <td>False</td>\n",
              "      <td>False</td>\n",
              "      <td>False</td>\n",
              "      <td>False</td>\n",
              "    </tr>\n",
              "    <tr>\n",
              "      <th>3</th>\n",
              "      <td>False</td>\n",
              "      <td>False</td>\n",
              "      <td>False</td>\n",
              "      <td>False</td>\n",
              "      <td>False</td>\n",
              "      <td>False</td>\n",
              "    </tr>\n",
              "    <tr>\n",
              "      <th>4</th>\n",
              "      <td>False</td>\n",
              "      <td>False</td>\n",
              "      <td>False</td>\n",
              "      <td>False</td>\n",
              "      <td>False</td>\n",
              "      <td>False</td>\n",
              "    </tr>\n",
              "    <tr>\n",
              "      <th>...</th>\n",
              "      <td>...</td>\n",
              "      <td>...</td>\n",
              "      <td>...</td>\n",
              "      <td>...</td>\n",
              "      <td>...</td>\n",
              "      <td>...</td>\n",
              "    </tr>\n",
              "    <tr>\n",
              "      <th>4428445</th>\n",
              "      <td>False</td>\n",
              "      <td>False</td>\n",
              "      <td>False</td>\n",
              "      <td>False</td>\n",
              "      <td>False</td>\n",
              "      <td>False</td>\n",
              "    </tr>\n",
              "    <tr>\n",
              "      <th>4428446</th>\n",
              "      <td>False</td>\n",
              "      <td>False</td>\n",
              "      <td>False</td>\n",
              "      <td>False</td>\n",
              "      <td>False</td>\n",
              "      <td>False</td>\n",
              "    </tr>\n",
              "    <tr>\n",
              "      <th>4428447</th>\n",
              "      <td>False</td>\n",
              "      <td>False</td>\n",
              "      <td>False</td>\n",
              "      <td>False</td>\n",
              "      <td>False</td>\n",
              "      <td>False</td>\n",
              "    </tr>\n",
              "    <tr>\n",
              "      <th>4428448</th>\n",
              "      <td>False</td>\n",
              "      <td>False</td>\n",
              "      <td>False</td>\n",
              "      <td>False</td>\n",
              "      <td>False</td>\n",
              "      <td>False</td>\n",
              "    </tr>\n",
              "    <tr>\n",
              "      <th>4428449</th>\n",
              "      <td>False</td>\n",
              "      <td>False</td>\n",
              "      <td>False</td>\n",
              "      <td>False</td>\n",
              "      <td>False</td>\n",
              "      <td>False</td>\n",
              "    </tr>\n",
              "  </tbody>\n",
              "</table>\n",
              "<p>4428450 rows × 6 columns</p>\n",
              "</div>"
            ],
            "text/plain": [
              "         search_id  business_id  search_timestamp    lat   long  category_name\n",
              "0            False        False             False  False  False          False\n",
              "1            False        False             False  False  False          False\n",
              "2            False        False             False  False  False          False\n",
              "3            False        False             False  False  False          False\n",
              "4            False        False             False  False  False          False\n",
              "...            ...          ...               ...    ...    ...            ...\n",
              "4428445      False        False             False  False  False          False\n",
              "4428446      False        False             False  False  False          False\n",
              "4428447      False        False             False  False  False          False\n",
              "4428448      False        False             False  False  False          False\n",
              "4428449      False        False             False  False  False          False\n",
              "\n",
              "[4428450 rows x 6 columns]"
            ]
          },
          "metadata": {
            "tags": []
          },
          "execution_count": 12
        }
      ]
    },
    {
      "cell_type": "code",
      "metadata": {
        "id": "HJQfSZ7W0pOV",
        "outputId": "a0c73f0c-62c2-4230-ef7b-d4d241997aeb",
        "colab": {
          "base_uri": "https://localhost:8080/"
        }
      },
      "source": [
        "table2.isnull().any() #เช็คค่าในตารางว่ามี missing ไหม"
      ],
      "execution_count": 13,
      "outputs": [
        {
          "output_type": "execute_result",
          "data": {
            "text/plain": [
              "search_id           False\n",
              "business_id          True\n",
              "search_timestamp    False\n",
              "lat                  True\n",
              "long                 True\n",
              "category_name        True\n",
              "dtype: bool"
            ]
          },
          "metadata": {
            "tags": []
          },
          "execution_count": 13
        }
      ]
    },
    {
      "cell_type": "code",
      "metadata": {
        "id": "gEnEEfAy0wHm",
        "outputId": "42d81084-e5c8-4da6-b9a4-6f70fb051798",
        "colab": {
          "base_uri": "https://localhost:8080/"
        }
      },
      "source": [
        "table3 = table2.dropna() # กำจัดค่า missing โดยการลบแถวที่มีค่า missing ออกไป\n",
        "table3.isnull().any() #เช็คค่าในตารางว่ามี missing ไหม -ขึ้นว่า False แสดงว่าไม่มีค่า missing"
      ],
      "execution_count": 14,
      "outputs": [
        {
          "output_type": "execute_result",
          "data": {
            "text/plain": [
              "search_id           False\n",
              "business_id         False\n",
              "search_timestamp    False\n",
              "lat                 False\n",
              "long                False\n",
              "category_name       False\n",
              "dtype: bool"
            ]
          },
          "metadata": {
            "tags": []
          },
          "execution_count": 14
        }
      ]
    },
    {
      "cell_type": "code",
      "metadata": {
        "id": "QIigSFpbyI23",
        "outputId": "62de572a-4439-4549-f3cb-1c525a36eea2",
        "colab": {
          "base_uri": "https://localhost:8080/",
          "height": 226
        }
      },
      "source": [
        "groups = table3.groupby('business_id').count().sort_values('category_name')\n",
        "groups.head()"
      ],
      "execution_count": 15,
      "outputs": [
        {
          "output_type": "execute_result",
          "data": {
            "text/html": [
              "<div>\n",
              "<style scoped>\n",
              "    .dataframe tbody tr th:only-of-type {\n",
              "        vertical-align: middle;\n",
              "    }\n",
              "\n",
              "    .dataframe tbody tr th {\n",
              "        vertical-align: top;\n",
              "    }\n",
              "\n",
              "    .dataframe thead th {\n",
              "        text-align: right;\n",
              "    }\n",
              "</style>\n",
              "<table border=\"1\" class=\"dataframe\">\n",
              "  <thead>\n",
              "    <tr style=\"text-align: right;\">\n",
              "      <th></th>\n",
              "      <th>search_id</th>\n",
              "      <th>search_timestamp</th>\n",
              "      <th>lat</th>\n",
              "      <th>long</th>\n",
              "      <th>category_name</th>\n",
              "    </tr>\n",
              "    <tr>\n",
              "      <th>business_id</th>\n",
              "      <th></th>\n",
              "      <th></th>\n",
              "      <th></th>\n",
              "      <th></th>\n",
              "      <th></th>\n",
              "    </tr>\n",
              "  </thead>\n",
              "  <tbody>\n",
              "    <tr>\n",
              "      <th>106099.0</th>\n",
              "      <td>1</td>\n",
              "      <td>1</td>\n",
              "      <td>1</td>\n",
              "      <td>1</td>\n",
              "      <td>1</td>\n",
              "    </tr>\n",
              "    <tr>\n",
              "      <th>250117.0</th>\n",
              "      <td>1</td>\n",
              "      <td>1</td>\n",
              "      <td>1</td>\n",
              "      <td>1</td>\n",
              "      <td>1</td>\n",
              "    </tr>\n",
              "    <tr>\n",
              "      <th>38224.0</th>\n",
              "      <td>1</td>\n",
              "      <td>1</td>\n",
              "      <td>1</td>\n",
              "      <td>1</td>\n",
              "      <td>1</td>\n",
              "    </tr>\n",
              "    <tr>\n",
              "      <th>38223.0</th>\n",
              "      <td>1</td>\n",
              "      <td>1</td>\n",
              "      <td>1</td>\n",
              "      <td>1</td>\n",
              "      <td>1</td>\n",
              "    </tr>\n",
              "    <tr>\n",
              "      <th>38222.0</th>\n",
              "      <td>1</td>\n",
              "      <td>1</td>\n",
              "      <td>1</td>\n",
              "      <td>1</td>\n",
              "      <td>1</td>\n",
              "    </tr>\n",
              "  </tbody>\n",
              "</table>\n",
              "</div>"
            ],
            "text/plain": [
              "             search_id  search_timestamp  lat  long  category_name\n",
              "business_id                                                       \n",
              "106099.0             1                 1    1     1              1\n",
              "250117.0             1                 1    1     1              1\n",
              "38224.0              1                 1    1     1              1\n",
              "38223.0              1                 1    1     1              1\n",
              "38222.0              1                 1    1     1              1"
            ]
          },
          "metadata": {
            "tags": []
          },
          "execution_count": 15
        }
      ]
    },
    {
      "cell_type": "code",
      "metadata": {
        "id": "ugrJSdruz-92",
        "outputId": "c98ebcba-1dde-4380-c68c-e0256f04ef51",
        "colab": {
          "base_uri": "https://localhost:8080/",
          "height": 434
        }
      },
      "source": [
        "groups['category_name']  = groups['search_id'].map(table3['category_name'])\n",
        "groups"
      ],
      "execution_count": 16,
      "outputs": [
        {
          "output_type": "execute_result",
          "data": {
            "text/html": [
              "<div>\n",
              "<style scoped>\n",
              "    .dataframe tbody tr th:only-of-type {\n",
              "        vertical-align: middle;\n",
              "    }\n",
              "\n",
              "    .dataframe tbody tr th {\n",
              "        vertical-align: top;\n",
              "    }\n",
              "\n",
              "    .dataframe thead th {\n",
              "        text-align: right;\n",
              "    }\n",
              "</style>\n",
              "<table border=\"1\" class=\"dataframe\">\n",
              "  <thead>\n",
              "    <tr style=\"text-align: right;\">\n",
              "      <th></th>\n",
              "      <th>search_id</th>\n",
              "      <th>search_timestamp</th>\n",
              "      <th>lat</th>\n",
              "      <th>long</th>\n",
              "      <th>category_name</th>\n",
              "    </tr>\n",
              "    <tr>\n",
              "      <th>business_id</th>\n",
              "      <th></th>\n",
              "      <th></th>\n",
              "      <th></th>\n",
              "      <th></th>\n",
              "      <th></th>\n",
              "    </tr>\n",
              "  </thead>\n",
              "  <tbody>\n",
              "    <tr>\n",
              "      <th>106099.0</th>\n",
              "      <td>1</td>\n",
              "      <td>1</td>\n",
              "      <td>1</td>\n",
              "      <td>1</td>\n",
              "      <td>Bakery/Cake</td>\n",
              "    </tr>\n",
              "    <tr>\n",
              "      <th>250117.0</th>\n",
              "      <td>1</td>\n",
              "      <td>1</td>\n",
              "      <td>1</td>\n",
              "      <td>1</td>\n",
              "      <td>Bakery/Cake</td>\n",
              "    </tr>\n",
              "    <tr>\n",
              "      <th>38224.0</th>\n",
              "      <td>1</td>\n",
              "      <td>1</td>\n",
              "      <td>1</td>\n",
              "      <td>1</td>\n",
              "      <td>Bakery/Cake</td>\n",
              "    </tr>\n",
              "    <tr>\n",
              "      <th>38223.0</th>\n",
              "      <td>1</td>\n",
              "      <td>1</td>\n",
              "      <td>1</td>\n",
              "      <td>1</td>\n",
              "      <td>Bakery/Cake</td>\n",
              "    </tr>\n",
              "    <tr>\n",
              "      <th>38222.0</th>\n",
              "      <td>1</td>\n",
              "      <td>1</td>\n",
              "      <td>1</td>\n",
              "      <td>1</td>\n",
              "      <td>Bakery/Cake</td>\n",
              "    </tr>\n",
              "    <tr>\n",
              "      <th>...</th>\n",
              "      <td>...</td>\n",
              "      <td>...</td>\n",
              "      <td>...</td>\n",
              "      <td>...</td>\n",
              "      <td>...</td>\n",
              "    </tr>\n",
              "    <tr>\n",
              "      <th>56215.0</th>\n",
              "      <td>1740</td>\n",
              "      <td>1740</td>\n",
              "      <td>1740</td>\n",
              "      <td>1740</td>\n",
              "      <td>North East</td>\n",
              "    </tr>\n",
              "    <tr>\n",
              "      <th>250135.0</th>\n",
              "      <td>1808</td>\n",
              "      <td>1808</td>\n",
              "      <td>1808</td>\n",
              "      <td>1808</td>\n",
              "      <td>NaN</td>\n",
              "    </tr>\n",
              "    <tr>\n",
              "      <th>331572.0</th>\n",
              "      <td>2190</td>\n",
              "      <td>2190</td>\n",
              "      <td>2190</td>\n",
              "      <td>2190</td>\n",
              "      <td>Seafood</td>\n",
              "    </tr>\n",
              "    <tr>\n",
              "      <th>112509.0</th>\n",
              "      <td>2254</td>\n",
              "      <td>2254</td>\n",
              "      <td>2254</td>\n",
              "      <td>2254</td>\n",
              "      <td>NaN</td>\n",
              "    </tr>\n",
              "    <tr>\n",
              "      <th>142707.0</th>\n",
              "      <td>2905</td>\n",
              "      <td>2905</td>\n",
              "      <td>2905</td>\n",
              "      <td>2905</td>\n",
              "      <td>North East</td>\n",
              "    </tr>\n",
              "  </tbody>\n",
              "</table>\n",
              "<p>137265 rows × 5 columns</p>\n",
              "</div>"
            ],
            "text/plain": [
              "             search_id  search_timestamp   lat  long category_name\n",
              "business_id                                                       \n",
              "106099.0             1                 1     1     1   Bakery/Cake\n",
              "250117.0             1                 1     1     1   Bakery/Cake\n",
              "38224.0              1                 1     1     1   Bakery/Cake\n",
              "38223.0              1                 1     1     1   Bakery/Cake\n",
              "38222.0              1                 1     1     1   Bakery/Cake\n",
              "...                ...               ...   ...   ...           ...\n",
              "56215.0           1740              1740  1740  1740    North East\n",
              "250135.0          1808              1808  1808  1808           NaN\n",
              "331572.0          2190              2190  2190  2190       Seafood\n",
              "112509.0          2254              2254  2254  2254           NaN\n",
              "142707.0          2905              2905  2905  2905    North East\n",
              "\n",
              "[137265 rows x 5 columns]"
            ]
          },
          "metadata": {
            "tags": []
          },
          "execution_count": 16
        }
      ]
    },
    {
      "cell_type": "markdown",
      "metadata": {
        "id": "SgoDjYEZ0NV-"
      },
      "source": [
        "จากตาราง อาหารที่ถูกค้นมากที่สุดคือ  North East รองลงมาเป็นอันดับ 2 คือ ไม่ทราบชื่อ"
      ]
    },
    {
      "cell_type": "code",
      "metadata": {
        "id": "gIvIk0RL3Qav"
      },
      "source": [
        "import datetime\n",
        "def extract_time(datetime_s):\n",
        "    EX_date = datetime.datetime.strptime(datetime_s, \"%Y-%m-%d %H:%M:%S.%f\")\n",
        "    return EX_date.hour, EX_date.day, get_day(EX_date.weekday()) \n",
        "\n",
        "def get_day(D):\n",
        "    weekdays = ['Monday','Tuesday','Wednesday','Thursday','Friday','Saturday','Sunday']\n",
        "    return weekdays[D] \n",
        "\n",
        "def is_food(inp):\n",
        "    food_list = ['Vegeterian','Sushi','Sukiyaki/Shabu','Street Food/Food Stands','Steak House/Barbeque','Southern Food','Seafood','Ramen','Quick Meal','Pizza','Northern Food','Noodles','Mexican','Korean',\n",
        "             'Japanese','Italian','Izakaya','Healthy Food','German Food','Fusion Food','French','Food Truck','Fastfood','Dim Sum','Delivery Only','Chinese','Cafe','Café/Coffee Shop','Buffet',\n",
        "             'Breakfast/Brunch','Bakery/Cake','Barbeque/Grill','American']\n",
        "    return inp in food_list"
      ],
      "execution_count": 17,
      "outputs": []
    },
    {
      "cell_type": "code",
      "metadata": {
        "id": "dyuZrDOuEhdq",
        "outputId": "a9ee8482-ae7b-442f-d2ee-5c5c7e4a764d",
        "colab": {
          "base_uri": "https://localhost:8080/"
        }
      },
      "source": [
        "extract_time('2018-06-15 05:18:07.583')"
      ],
      "execution_count": 38,
      "outputs": [
        {
          "output_type": "execute_result",
          "data": {
            "text/plain": [
              "(5, 15, 'Friday')"
            ]
          },
          "metadata": {
            "tags": []
          },
          "execution_count": 38
        }
      ]
    },
    {
      "cell_type": "code",
      "metadata": {
        "id": "CqtdwwHQEx57",
        "outputId": "a60fe988-408f-431e-a21d-def8faa71596",
        "colab": {
          "base_uri": "https://localhost:8080/"
        }
      },
      "source": [
        "is_food('Bakery/Cake')"
      ],
      "execution_count": 39,
      "outputs": [
        {
          "output_type": "execute_result",
          "data": {
            "text/plain": [
              "True"
            ]
          },
          "metadata": {
            "tags": []
          },
          "execution_count": 39
        }
      ]
    },
    {
      "cell_type": "markdown",
      "metadata": {
        "id": "hamuY4ZM1WHk"
      },
      "source": [
        "Classification"
      ]
    },
    {
      "cell_type": "markdown",
      "metadata": {
        "id": "n5MfQ7e3EFAL"
      },
      "source": [
        "แบ่งข้อมูล ออกเป็น 2 ส่วน train และ test ใช้ train เพื่อเลือกโมเดลที่ทำงานได้แม่นยำที่สุดกับ Test Set"
      ]
    },
    {
      "cell_type": "code",
      "metadata": {
        "id": "EwmW3esv1NNf",
        "outputId": "c2cd37e8-bd70-4ab0-96e7-2b80497ad544",
        "colab": {
          "base_uri": "https://localhost:8080/"
        }
      },
      "source": [
        "X = table3[['business_id','lat','long']] # แบ่งกลุ่มของ X โดยเลือกแบ่งตาม business_id,lat,long\n",
        "X.shape"
      ],
      "execution_count": 69,
      "outputs": [
        {
          "output_type": "execute_result",
          "data": {
            "text/plain": [
              "(2549987, 3)"
            ]
          },
          "metadata": {
            "tags": []
          },
          "execution_count": 69
        }
      ]
    },
    {
      "cell_type": "code",
      "metadata": {
        "id": "iHm8WoMg1mqP",
        "outputId": "010197e1-69e8-44ab-97b3-a0c4d95c9fe4",
        "colab": {
          "base_uri": "https://localhost:8080/",
          "height": 404
        }
      },
      "source": [
        "y = table3[['category_name']] # แบ่งกลุ่มของ Y โดยเลือกแบ่งตาม category_name\n",
        "y"
      ],
      "execution_count": 57,
      "outputs": [
        {
          "output_type": "execute_result",
          "data": {
            "text/html": [
              "<div>\n",
              "<style scoped>\n",
              "    .dataframe tbody tr th:only-of-type {\n",
              "        vertical-align: middle;\n",
              "    }\n",
              "\n",
              "    .dataframe tbody tr th {\n",
              "        vertical-align: top;\n",
              "    }\n",
              "\n",
              "    .dataframe thead th {\n",
              "        text-align: right;\n",
              "    }\n",
              "</style>\n",
              "<table border=\"1\" class=\"dataframe\">\n",
              "  <thead>\n",
              "    <tr style=\"text-align: right;\">\n",
              "      <th></th>\n",
              "      <th>category_name</th>\n",
              "    </tr>\n",
              "  </thead>\n",
              "  <tbody>\n",
              "    <tr>\n",
              "      <th>0</th>\n",
              "      <td>Bakery/Cake</td>\n",
              "    </tr>\n",
              "    <tr>\n",
              "      <th>1</th>\n",
              "      <td>Bakery/Cake</td>\n",
              "    </tr>\n",
              "    <tr>\n",
              "      <th>2</th>\n",
              "      <td>Quick Meal</td>\n",
              "    </tr>\n",
              "    <tr>\n",
              "      <th>3</th>\n",
              "      <td>Sushi</td>\n",
              "    </tr>\n",
              "    <tr>\n",
              "      <th>4</th>\n",
              "      <td>Cafe</td>\n",
              "    </tr>\n",
              "    <tr>\n",
              "      <th>...</th>\n",
              "      <td>...</td>\n",
              "    </tr>\n",
              "    <tr>\n",
              "      <th>4428445</th>\n",
              "      <td>Cafe</td>\n",
              "    </tr>\n",
              "    <tr>\n",
              "      <th>4428446</th>\n",
              "      <td>Healthy Food</td>\n",
              "    </tr>\n",
              "    <tr>\n",
              "      <th>4428447</th>\n",
              "      <td>Healthy Food</td>\n",
              "    </tr>\n",
              "    <tr>\n",
              "      <th>4428448</th>\n",
              "      <td>Cafe</td>\n",
              "    </tr>\n",
              "    <tr>\n",
              "      <th>4428449</th>\n",
              "      <td>Thai</td>\n",
              "    </tr>\n",
              "  </tbody>\n",
              "</table>\n",
              "<p>2549987 rows × 1 columns</p>\n",
              "</div>"
            ],
            "text/plain": [
              "        category_name\n",
              "0         Bakery/Cake\n",
              "1         Bakery/Cake\n",
              "2          Quick Meal\n",
              "3               Sushi\n",
              "4                Cafe\n",
              "...               ...\n",
              "4428445          Cafe\n",
              "4428446  Healthy Food\n",
              "4428447  Healthy Food\n",
              "4428448          Cafe\n",
              "4428449          Thai\n",
              "\n",
              "[2549987 rows x 1 columns]"
            ]
          },
          "metadata": {
            "tags": []
          },
          "execution_count": 57
        }
      ]
    },
    {
      "cell_type": "code",
      "metadata": {
        "id": "wUoVnNNK14L0",
        "outputId": "423f944b-087b-41c9-dda3-2fc275874326",
        "colab": {
          "base_uri": "https://localhost:8080/"
        }
      },
      "source": [
        "X_train = X.iloc[:-509997 ,:] #-509997 คือ เทรน 20% จากทั้งหมด\n",
        "print(X_train.shape)"
      ],
      "execution_count": 58,
      "outputs": [
        {
          "output_type": "stream",
          "text": [
            "(2039990, 3)\n"
          ],
          "name": "stdout"
        }
      ]
    },
    {
      "cell_type": "code",
      "metadata": {
        "id": "Ih2bt2_s2Q9M",
        "outputId": "69e7f1bc-6da8-4687-d9c7-da91a8d0beb7",
        "colab": {
          "base_uri": "https://localhost:8080/",
          "height": 421
        }
      },
      "source": [
        "X_test = X.iloc[-509997 :,:] #-509997 คือ เทส 80% จากทั้งหมด\n",
        "print(X_train.shape)\n",
        "X_test"
      ],
      "execution_count": 59,
      "outputs": [
        {
          "output_type": "stream",
          "text": [
            "(2039990, 3)\n"
          ],
          "name": "stdout"
        },
        {
          "output_type": "execute_result",
          "data": {
            "text/html": [
              "<div>\n",
              "<style scoped>\n",
              "    .dataframe tbody tr th:only-of-type {\n",
              "        vertical-align: middle;\n",
              "    }\n",
              "\n",
              "    .dataframe tbody tr th {\n",
              "        vertical-align: top;\n",
              "    }\n",
              "\n",
              "    .dataframe thead th {\n",
              "        text-align: right;\n",
              "    }\n",
              "</style>\n",
              "<table border=\"1\" class=\"dataframe\">\n",
              "  <thead>\n",
              "    <tr style=\"text-align: right;\">\n",
              "      <th></th>\n",
              "      <th>business_id</th>\n",
              "      <th>lat</th>\n",
              "      <th>long</th>\n",
              "    </tr>\n",
              "  </thead>\n",
              "  <tbody>\n",
              "    <tr>\n",
              "      <th>3687322</th>\n",
              "      <td>257259.0</td>\n",
              "      <td>13.5833</td>\n",
              "      <td>100.427</td>\n",
              "    </tr>\n",
              "    <tr>\n",
              "      <th>3687323</th>\n",
              "      <td>68668.0</td>\n",
              "      <td>13.7552</td>\n",
              "      <td>100.476</td>\n",
              "    </tr>\n",
              "    <tr>\n",
              "      <th>3687324</th>\n",
              "      <td>68668.0</td>\n",
              "      <td>13.7552</td>\n",
              "      <td>100.476</td>\n",
              "    </tr>\n",
              "    <tr>\n",
              "      <th>3687326</th>\n",
              "      <td>290545.0</td>\n",
              "      <td>7.01948</td>\n",
              "      <td>100.487</td>\n",
              "    </tr>\n",
              "    <tr>\n",
              "      <th>3687329</th>\n",
              "      <td>322314.0</td>\n",
              "      <td>18.581</td>\n",
              "      <td>99.0624</td>\n",
              "    </tr>\n",
              "    <tr>\n",
              "      <th>...</th>\n",
              "      <td>...</td>\n",
              "      <td>...</td>\n",
              "      <td>...</td>\n",
              "    </tr>\n",
              "    <tr>\n",
              "      <th>4428445</th>\n",
              "      <td>250231.0</td>\n",
              "      <td>12.573</td>\n",
              "      <td>99.9558</td>\n",
              "    </tr>\n",
              "    <tr>\n",
              "      <th>4428446</th>\n",
              "      <td>16614.0</td>\n",
              "      <td>13.758</td>\n",
              "      <td>100.56</td>\n",
              "    </tr>\n",
              "    <tr>\n",
              "      <th>4428447</th>\n",
              "      <td>16614.0</td>\n",
              "      <td>13.758</td>\n",
              "      <td>100.56</td>\n",
              "    </tr>\n",
              "    <tr>\n",
              "      <th>4428448</th>\n",
              "      <td>19569.0</td>\n",
              "      <td>12.9324</td>\n",
              "      <td>100.885</td>\n",
              "    </tr>\n",
              "    <tr>\n",
              "      <th>4428449</th>\n",
              "      <td>227719.0</td>\n",
              "      <td>13.6908</td>\n",
              "      <td>101.083</td>\n",
              "    </tr>\n",
              "  </tbody>\n",
              "</table>\n",
              "<p>509997 rows × 3 columns</p>\n",
              "</div>"
            ],
            "text/plain": [
              "         business_id      lat     long\n",
              "3687322     257259.0  13.5833  100.427\n",
              "3687323      68668.0  13.7552  100.476\n",
              "3687324      68668.0  13.7552  100.476\n",
              "3687326     290545.0  7.01948  100.487\n",
              "3687329     322314.0   18.581  99.0624\n",
              "...              ...      ...      ...\n",
              "4428445     250231.0   12.573  99.9558\n",
              "4428446      16614.0   13.758   100.56\n",
              "4428447      16614.0   13.758   100.56\n",
              "4428448      19569.0  12.9324  100.885\n",
              "4428449     227719.0  13.6908  101.083\n",
              "\n",
              "[509997 rows x 3 columns]"
            ]
          },
          "metadata": {
            "tags": []
          },
          "execution_count": 59
        }
      ]
    },
    {
      "cell_type": "code",
      "metadata": {
        "id": "Z564FOmH2iGc",
        "outputId": "c1d5749e-c012-41e7-aa66-2f93d5c9f4e6",
        "colab": {
          "base_uri": "https://localhost:8080/"
        }
      },
      "source": [
        "y_train = y.iloc[:-509997 ,:] #-509997 คือ 20% จากทั้งหมด\n",
        "print(y_train.shape)"
      ],
      "execution_count": 60,
      "outputs": [
        {
          "output_type": "stream",
          "text": [
            "(2039990, 1)\n"
          ],
          "name": "stdout"
        }
      ]
    },
    {
      "cell_type": "code",
      "metadata": {
        "id": "brma-jrZ2n0U",
        "outputId": "8fea0979-7c64-4583-cb2f-7eccf6949bb4",
        "colab": {
          "base_uri": "https://localhost:8080/",
          "height": 404
        }
      },
      "source": [
        "y_test = y.iloc[-509997 :,:] #-509997 คือ เทส 80% จากทั้งหมด\n",
        "y_test"
      ],
      "execution_count": 61,
      "outputs": [
        {
          "output_type": "execute_result",
          "data": {
            "text/html": [
              "<div>\n",
              "<style scoped>\n",
              "    .dataframe tbody tr th:only-of-type {\n",
              "        vertical-align: middle;\n",
              "    }\n",
              "\n",
              "    .dataframe tbody tr th {\n",
              "        vertical-align: top;\n",
              "    }\n",
              "\n",
              "    .dataframe thead th {\n",
              "        text-align: right;\n",
              "    }\n",
              "</style>\n",
              "<table border=\"1\" class=\"dataframe\">\n",
              "  <thead>\n",
              "    <tr style=\"text-align: right;\">\n",
              "      <th></th>\n",
              "      <th>category_name</th>\n",
              "    </tr>\n",
              "  </thead>\n",
              "  <tbody>\n",
              "    <tr>\n",
              "      <th>3687322</th>\n",
              "      <td>Seafood</td>\n",
              "    </tr>\n",
              "    <tr>\n",
              "      <th>3687323</th>\n",
              "      <td>Noodles</td>\n",
              "    </tr>\n",
              "    <tr>\n",
              "      <th>3687324</th>\n",
              "      <td>Noodles</td>\n",
              "    </tr>\n",
              "    <tr>\n",
              "      <th>3687326</th>\n",
              "      <td>Japanese</td>\n",
              "    </tr>\n",
              "    <tr>\n",
              "      <th>3687329</th>\n",
              "      <td>Sukiyaki/Shabu</td>\n",
              "    </tr>\n",
              "    <tr>\n",
              "      <th>...</th>\n",
              "      <td>...</td>\n",
              "    </tr>\n",
              "    <tr>\n",
              "      <th>4428445</th>\n",
              "      <td>Cafe</td>\n",
              "    </tr>\n",
              "    <tr>\n",
              "      <th>4428446</th>\n",
              "      <td>Healthy Food</td>\n",
              "    </tr>\n",
              "    <tr>\n",
              "      <th>4428447</th>\n",
              "      <td>Healthy Food</td>\n",
              "    </tr>\n",
              "    <tr>\n",
              "      <th>4428448</th>\n",
              "      <td>Cafe</td>\n",
              "    </tr>\n",
              "    <tr>\n",
              "      <th>4428449</th>\n",
              "      <td>Thai</td>\n",
              "    </tr>\n",
              "  </tbody>\n",
              "</table>\n",
              "<p>509997 rows × 1 columns</p>\n",
              "</div>"
            ],
            "text/plain": [
              "          category_name\n",
              "3687322         Seafood\n",
              "3687323         Noodles\n",
              "3687324         Noodles\n",
              "3687326        Japanese\n",
              "3687329  Sukiyaki/Shabu\n",
              "...                 ...\n",
              "4428445            Cafe\n",
              "4428446    Healthy Food\n",
              "4428447    Healthy Food\n",
              "4428448            Cafe\n",
              "4428449            Thai\n",
              "\n",
              "[509997 rows x 1 columns]"
            ]
          },
          "metadata": {
            "tags": []
          },
          "execution_count": 61
        }
      ]
    },
    {
      "cell_type": "markdown",
      "metadata": {
        "id": "wRZZlBh72veV"
      },
      "source": [
        "KNN"
      ]
    },
    {
      "cell_type": "code",
      "metadata": {
        "id": "3Puxl5IJ2rXN"
      },
      "source": [
        "from sklearn.neighbors import KNeighborsClassifier #จัดแบ่งคลาส โดยเทคนิคนี้จะตัดสินใจว่า คลาสใดที่จะแทนเงื่อนไขหรือกรณีใหม่ๆ ได้บ้าง โดยการตรวจสอบจำนวนบางจำนวน (“K” ในขั้นตอนวิธีการเพื่อนบ้านใกล้ที่สุด)"
      ],
      "execution_count": 62,
      "outputs": []
    },
    {
      "cell_type": "code",
      "metadata": {
        "id": "-5s1jIFy2z16"
      },
      "source": [
        "myKNN = KNeighborsClassifier(n_neighbors=20) #มองหาจำนวนเพื่อนบ้าน = 20"
      ],
      "execution_count": 63,
      "outputs": []
    },
    {
      "cell_type": "code",
      "metadata": {
        "id": "iv8RP2K62_CL",
        "outputId": "919b2af2-988e-4a5d-f31c-9105e85fe6fb",
        "colab": {
          "base_uri": "https://localhost:8080/"
        }
      },
      "source": [
        "myKNN.fit(X_train,y_train)"
      ],
      "execution_count": 64,
      "outputs": [
        {
          "output_type": "stream",
          "text": [
            "/usr/local/lib/python3.6/dist-packages/ipykernel_launcher.py:1: DataConversionWarning: A column-vector y was passed when a 1d array was expected. Please change the shape of y to (n_samples, ), for example using ravel().\n",
            "  \"\"\"Entry point for launching an IPython kernel.\n"
          ],
          "name": "stderr"
        },
        {
          "output_type": "execute_result",
          "data": {
            "text/plain": [
              "KNeighborsClassifier(algorithm='auto', leaf_size=30, metric='minkowski',\n",
              "                     metric_params=None, n_jobs=None, n_neighbors=20, p=2,\n",
              "                     weights='uniform')"
            ]
          },
          "metadata": {
            "tags": []
          },
          "execution_count": 64
        }
      ]
    },
    {
      "cell_type": "code",
      "metadata": {
        "id": "P6QRipToFa9i",
        "outputId": "66e06718-d29a-446d-9274-c27a2a8afc6d",
        "colab": {
          "base_uri": "https://localhost:8080/"
        }
      },
      "source": [
        "myKNN.predict(X_test)"
      ],
      "execution_count": 65,
      "outputs": [
        {
          "output_type": "execute_result",
          "data": {
            "text/plain": [
              "array(['Seafood', 'Noodles', 'Noodles', ..., 'Healthy Food', 'Cafe',\n",
              "       'Thai'], dtype=object)"
            ]
          },
          "metadata": {
            "tags": []
          },
          "execution_count": 65
        }
      ]
    },
    {
      "cell_type": "code",
      "metadata": {
        "id": "jkYwWAMkFmaY"
      },
      "source": [
        "myKNN = KNeighborsClassifier(n_neighbors=30) #มองหาจำนวนเพื่อนบ้าน = 30"
      ],
      "execution_count": 66,
      "outputs": []
    },
    {
      "cell_type": "code",
      "metadata": {
        "id": "pbpGz1H8FodJ",
        "outputId": "9116a3e2-ce9e-4bef-981b-b26f06aec3f0",
        "colab": {
          "base_uri": "https://localhost:8080/"
        }
      },
      "source": [
        "myKNN.fit(X_train,y_train)"
      ],
      "execution_count": 67,
      "outputs": [
        {
          "output_type": "stream",
          "text": [
            "/usr/local/lib/python3.6/dist-packages/ipykernel_launcher.py:1: DataConversionWarning: A column-vector y was passed when a 1d array was expected. Please change the shape of y to (n_samples, ), for example using ravel().\n",
            "  \"\"\"Entry point for launching an IPython kernel.\n"
          ],
          "name": "stderr"
        },
        {
          "output_type": "execute_result",
          "data": {
            "text/plain": [
              "KNeighborsClassifier(algorithm='auto', leaf_size=30, metric='minkowski',\n",
              "                     metric_params=None, n_jobs=None, n_neighbors=30, p=2,\n",
              "                     weights='uniform')"
            ]
          },
          "metadata": {
            "tags": []
          },
          "execution_count": 67
        }
      ]
    },
    {
      "cell_type": "code",
      "metadata": {
        "id": "n9-xHNyTFqua",
        "outputId": "12dd39db-29c4-460f-e9f0-29fb20d2f6ef",
        "colab": {
          "base_uri": "https://localhost:8080/"
        }
      },
      "source": [
        "myKNN.predict(X_test)"
      ],
      "execution_count": 68,
      "outputs": [
        {
          "output_type": "execute_result",
          "data": {
            "text/plain": [
              "array(['Seafood', 'Noodles', 'Noodles', ..., 'Healthy Food', 'Cafe',\n",
              "       'Thai'], dtype=object)"
            ]
          },
          "metadata": {
            "tags": []
          },
          "execution_count": 68
        }
      ]
    },
    {
      "cell_type": "code",
      "metadata": {
        "id": "XmL1pcyWFtYJ"
      },
      "source": [
        " from sklearn.model_selection import train_test_split # เลือกโมเดลที่ดีที่สุด"
      ],
      "execution_count": 55,
      "outputs": []
    },
    {
      "cell_type": "code",
      "metadata": {
        "id": "XGg9f_AaGA1u"
      },
      "source": [
        "X_train, X_test, y_train, y_test = train_test_split(X, y, test_size=0.3) #test_size ขนาดของจำนวน test"
      ],
      "execution_count": 70,
      "outputs": []
    },
    {
      "cell_type": "code",
      "metadata": {
        "id": "ZxH2vyq3GUmL",
        "outputId": "7cd7b77e-c643-483f-d75e-b3ba9bcd8a8f",
        "colab": {
          "base_uri": "https://localhost:8080/"
        }
      },
      "source": [
        "print(f'{X_train.shape} {X_test.shape}')"
      ],
      "execution_count": 71,
      "outputs": [
        {
          "output_type": "stream",
          "text": [
            "(1784990, 3) (764997, 3)\n"
          ],
          "name": "stdout"
        }
      ]
    },
    {
      "cell_type": "code",
      "metadata": {
        "id": "1sDP8UvOGXKb"
      },
      "source": [
        "from sklearn.model_selection import cross_val_score"
      ],
      "execution_count": 72,
      "outputs": []
    },
    {
      "cell_type": "code",
      "metadata": {
        "id": "JBoz9Q2sGX-Q",
        "outputId": "b0420b4f-b455-4d92-dcff-5e47f09dfeaa",
        "colab": {
          "base_uri": "https://localhost:8080/"
        }
      },
      "source": [
        "#1. Define model \n",
        "KNN_k3_wU = KNeighborsClassifier(n_neighbors=20)\n",
        "#2. cros validation\n",
        "cross_val_score(KNN_k3_wU, X_train, y_train, cv=5).mean()"
      ],
      "execution_count": 73,
      "outputs": [
        {
          "output_type": "stream",
          "text": [
            "/usr/local/lib/python3.6/dist-packages/sklearn/model_selection/_split.py:667: UserWarning: The least populated class in y has only 1 members, which is less than n_splits=5.\n",
            "  % (min_groups, self.n_splits)), UserWarning)\n",
            "/usr/local/lib/python3.6/dist-packages/sklearn/model_selection/_validation.py:515: DataConversionWarning: A column-vector y was passed when a 1d array was expected. Please change the shape of y to (n_samples, ), for example using ravel().\n",
            "  estimator.fit(X_train, y_train, **fit_params)\n",
            "/usr/local/lib/python3.6/dist-packages/sklearn/model_selection/_validation.py:515: DataConversionWarning: A column-vector y was passed when a 1d array was expected. Please change the shape of y to (n_samples, ), for example using ravel().\n",
            "  estimator.fit(X_train, y_train, **fit_params)\n",
            "/usr/local/lib/python3.6/dist-packages/sklearn/model_selection/_validation.py:515: DataConversionWarning: A column-vector y was passed when a 1d array was expected. Please change the shape of y to (n_samples, ), for example using ravel().\n",
            "  estimator.fit(X_train, y_train, **fit_params)\n",
            "/usr/local/lib/python3.6/dist-packages/sklearn/model_selection/_validation.py:515: DataConversionWarning: A column-vector y was passed when a 1d array was expected. Please change the shape of y to (n_samples, ), for example using ravel().\n",
            "  estimator.fit(X_train, y_train, **fit_params)\n",
            "/usr/local/lib/python3.6/dist-packages/sklearn/model_selection/_validation.py:515: DataConversionWarning: A column-vector y was passed when a 1d array was expected. Please change the shape of y to (n_samples, ), for example using ravel().\n",
            "  estimator.fit(X_train, y_train, **fit_params)\n"
          ],
          "name": "stderr"
        },
        {
          "output_type": "execute_result",
          "data": {
            "text/plain": [
              "0.7969831763763382"
            ]
          },
          "metadata": {
            "tags": []
          },
          "execution_count": 73
        }
      ]
    },
    {
      "cell_type": "markdown",
      "metadata": {
        "id": "ZSEa_yEcGhC_"
      },
      "source": [
        "Train model ที่ดีที่สุดด้วย training set แล้ววัดผลด้วย test set"
      ]
    },
    {
      "cell_type": "code",
      "metadata": {
        "id": "gcPHV44IGhpY",
        "outputId": "36865cd4-9cdd-467e-ab81-dfd3c77e9788",
        "colab": {
          "base_uri": "https://localhost:8080/"
        }
      },
      "source": [
        "#1. Define model \n",
        "KNN_k3_wU = KNeighborsClassifier(n_neighbors=20)\n",
        "#2. train\n",
        "KNN_k3_wU.fit(X_train,y_train)\n",
        "#3. test_Evaluation\n",
        "KNN_k3_wU.score(X_test,y_test)"
      ],
      "execution_count": 74,
      "outputs": [
        {
          "output_type": "stream",
          "text": [
            "/usr/local/lib/python3.6/dist-packages/ipykernel_launcher.py:4: DataConversionWarning: A column-vector y was passed when a 1d array was expected. Please change the shape of y to (n_samples, ), for example using ravel().\n",
            "  after removing the cwd from sys.path.\n"
          ],
          "name": "stderr"
        },
        {
          "output_type": "execute_result",
          "data": {
            "text/plain": [
              "0.8336895438805643"
            ]
          },
          "metadata": {
            "tags": []
          },
          "execution_count": 74
        }
      ]
    },
    {
      "cell_type": "markdown",
      "metadata": {
        "id": "nuBLujsqG_4x"
      },
      "source": [
        "จาก data  โมเดลที่แม่นยำที่สุดคือ knn test โมเดลที่มีความแม่นยำที่สุด โดยมีพารามิเตอร์ K = 20 มีความแม่นยำ = 83.37%"
      ]
    },
    {
      "cell_type": "markdown",
      "metadata": {
        "id": "hX8zUa__dZJd"
      },
      "source": [
        "#ข้อ 2"
      ]
    },
    {
      "cell_type": "code",
      "metadata": {
        "id": "Dq47VeVLkRip",
        "outputId": "aa5303a4-04a4-4868-adf4-b34c53fed1fe",
        "colab": {
          "base_uri": "https://localhost:8080/",
          "height": 196
        }
      },
      "source": [
        "reduced_marketbasket_df = pd.read_csv(os.path.join(base_path,'reduced_marketbasket.csv'),encoding = 'unicode_escape')\n",
        "reduced_marketbasket_df.head()"
      ],
      "execution_count": 18,
      "outputs": [
        {
          "output_type": "execute_result",
          "data": {
            "text/html": [
              "<div>\n",
              "<style scoped>\n",
              "    .dataframe tbody tr th:only-of-type {\n",
              "        vertical-align: middle;\n",
              "    }\n",
              "\n",
              "    .dataframe tbody tr th {\n",
              "        vertical-align: top;\n",
              "    }\n",
              "\n",
              "    .dataframe thead th {\n",
              "        text-align: right;\n",
              "    }\n",
              "</style>\n",
              "<table border=\"1\" class=\"dataframe\">\n",
              "  <thead>\n",
              "    <tr style=\"text-align: right;\">\n",
              "      <th></th>\n",
              "      <th>InvoiceNo</th>\n",
              "      <th>StockCode</th>\n",
              "      <th>Description</th>\n",
              "      <th>Quantity</th>\n",
              "      <th>InvoiceDate</th>\n",
              "      <th>UnitPrice</th>\n",
              "      <th>CustomerID</th>\n",
              "      <th>Country</th>\n",
              "    </tr>\n",
              "  </thead>\n",
              "  <tbody>\n",
              "    <tr>\n",
              "      <th>0</th>\n",
              "      <td>536365</td>\n",
              "      <td>85123A</td>\n",
              "      <td>WHITE HANGING HEART T-LIGHT HOLDER</td>\n",
              "      <td>6</td>\n",
              "      <td>12/01/2010 08:26</td>\n",
              "      <td>2.55</td>\n",
              "      <td>17850.0</td>\n",
              "      <td>United Kingdom</td>\n",
              "    </tr>\n",
              "    <tr>\n",
              "      <th>1</th>\n",
              "      <td>536365</td>\n",
              "      <td>71053</td>\n",
              "      <td>WHITE METAL LANTERN</td>\n",
              "      <td>6</td>\n",
              "      <td>12/01/2010 08:26</td>\n",
              "      <td>3.39</td>\n",
              "      <td>17850.0</td>\n",
              "      <td>United Kingdom</td>\n",
              "    </tr>\n",
              "    <tr>\n",
              "      <th>2</th>\n",
              "      <td>536365</td>\n",
              "      <td>84406B</td>\n",
              "      <td>CREAM CUPID HEARTS COAT HANGER</td>\n",
              "      <td>8</td>\n",
              "      <td>12/01/2010 08:26</td>\n",
              "      <td>2.75</td>\n",
              "      <td>17850.0</td>\n",
              "      <td>United Kingdom</td>\n",
              "    </tr>\n",
              "    <tr>\n",
              "      <th>3</th>\n",
              "      <td>536365</td>\n",
              "      <td>84029G</td>\n",
              "      <td>KNITTED UNION FLAG HOT WATER BOTTLE</td>\n",
              "      <td>6</td>\n",
              "      <td>12/01/2010 08:26</td>\n",
              "      <td>3.39</td>\n",
              "      <td>17850.0</td>\n",
              "      <td>United Kingdom</td>\n",
              "    </tr>\n",
              "    <tr>\n",
              "      <th>4</th>\n",
              "      <td>536365</td>\n",
              "      <td>84029E</td>\n",
              "      <td>RED WOOLLY HOTTIE WHITE HEART.</td>\n",
              "      <td>6</td>\n",
              "      <td>12/01/2010 08:26</td>\n",
              "      <td>3.39</td>\n",
              "      <td>17850.0</td>\n",
              "      <td>United Kingdom</td>\n",
              "    </tr>\n",
              "  </tbody>\n",
              "</table>\n",
              "</div>"
            ],
            "text/plain": [
              "  InvoiceNo StockCode  ... CustomerID         Country\n",
              "0    536365    85123A  ...    17850.0  United Kingdom\n",
              "1    536365     71053  ...    17850.0  United Kingdom\n",
              "2    536365    84406B  ...    17850.0  United Kingdom\n",
              "3    536365    84029G  ...    17850.0  United Kingdom\n",
              "4    536365    84029E  ...    17850.0  United Kingdom\n",
              "\n",
              "[5 rows x 8 columns]"
            ]
          },
          "metadata": {
            "tags": []
          },
          "execution_count": 18
        }
      ]
    },
    {
      "cell_type": "code",
      "metadata": {
        "id": "KNbR4yMV7BFm",
        "outputId": "004d6e7a-0aea-4b8e-bbb3-c759d0da0732",
        "colab": {
          "base_uri": "https://localhost:8080/",
          "height": 196
        }
      },
      "source": [
        "Uk_table = reduced_marketbasket_df[reduced_marketbasket_df['Country'] == 'United Kingdom']\n",
        "Uk_table.head()"
      ],
      "execution_count": 103,
      "outputs": [
        {
          "output_type": "execute_result",
          "data": {
            "text/html": [
              "<div>\n",
              "<style scoped>\n",
              "    .dataframe tbody tr th:only-of-type {\n",
              "        vertical-align: middle;\n",
              "    }\n",
              "\n",
              "    .dataframe tbody tr th {\n",
              "        vertical-align: top;\n",
              "    }\n",
              "\n",
              "    .dataframe thead th {\n",
              "        text-align: right;\n",
              "    }\n",
              "</style>\n",
              "<table border=\"1\" class=\"dataframe\">\n",
              "  <thead>\n",
              "    <tr style=\"text-align: right;\">\n",
              "      <th></th>\n",
              "      <th>InvoiceNo</th>\n",
              "      <th>StockCode</th>\n",
              "      <th>Description</th>\n",
              "      <th>Quantity</th>\n",
              "      <th>InvoiceDate</th>\n",
              "      <th>UnitPrice</th>\n",
              "      <th>CustomerID</th>\n",
              "      <th>Country</th>\n",
              "    </tr>\n",
              "  </thead>\n",
              "  <tbody>\n",
              "    <tr>\n",
              "      <th>0</th>\n",
              "      <td>536365</td>\n",
              "      <td>85123A</td>\n",
              "      <td>WHITE HANGING HEART T-LIGHT HOLDER</td>\n",
              "      <td>6</td>\n",
              "      <td>12/01/2010 08:26</td>\n",
              "      <td>2.55</td>\n",
              "      <td>17850.0</td>\n",
              "      <td>United Kingdom</td>\n",
              "    </tr>\n",
              "    <tr>\n",
              "      <th>1</th>\n",
              "      <td>536365</td>\n",
              "      <td>71053</td>\n",
              "      <td>WHITE METAL LANTERN</td>\n",
              "      <td>6</td>\n",
              "      <td>12/01/2010 08:26</td>\n",
              "      <td>3.39</td>\n",
              "      <td>17850.0</td>\n",
              "      <td>United Kingdom</td>\n",
              "    </tr>\n",
              "    <tr>\n",
              "      <th>2</th>\n",
              "      <td>536365</td>\n",
              "      <td>84406B</td>\n",
              "      <td>CREAM CUPID HEARTS COAT HANGER</td>\n",
              "      <td>8</td>\n",
              "      <td>12/01/2010 08:26</td>\n",
              "      <td>2.75</td>\n",
              "      <td>17850.0</td>\n",
              "      <td>United Kingdom</td>\n",
              "    </tr>\n",
              "    <tr>\n",
              "      <th>3</th>\n",
              "      <td>536365</td>\n",
              "      <td>84029G</td>\n",
              "      <td>KNITTED UNION FLAG HOT WATER BOTTLE</td>\n",
              "      <td>6</td>\n",
              "      <td>12/01/2010 08:26</td>\n",
              "      <td>3.39</td>\n",
              "      <td>17850.0</td>\n",
              "      <td>United Kingdom</td>\n",
              "    </tr>\n",
              "    <tr>\n",
              "      <th>4</th>\n",
              "      <td>536365</td>\n",
              "      <td>84029E</td>\n",
              "      <td>RED WOOLLY HOTTIE WHITE HEART.</td>\n",
              "      <td>6</td>\n",
              "      <td>12/01/2010 08:26</td>\n",
              "      <td>3.39</td>\n",
              "      <td>17850.0</td>\n",
              "      <td>United Kingdom</td>\n",
              "    </tr>\n",
              "  </tbody>\n",
              "</table>\n",
              "</div>"
            ],
            "text/plain": [
              "  InvoiceNo StockCode  ... CustomerID         Country\n",
              "0    536365    85123A  ...    17850.0  United Kingdom\n",
              "1    536365     71053  ...    17850.0  United Kingdom\n",
              "2    536365    84406B  ...    17850.0  United Kingdom\n",
              "3    536365    84029G  ...    17850.0  United Kingdom\n",
              "4    536365    84029E  ...    17850.0  United Kingdom\n",
              "\n",
              "[5 rows x 8 columns]"
            ]
          },
          "metadata": {
            "tags": []
          },
          "execution_count": 103
        }
      ]
    },
    {
      "cell_type": "code",
      "metadata": {
        "id": "qUjwS6kMmADv",
        "outputId": "738ebef2-ec33-4f6a-ffdb-3571b6173bbd",
        "colab": {
          "base_uri": "https://localhost:8080/"
        }
      },
      "source": [
        "transacs = Uk_table.groupby('CustomerID')['Description'].apply(list)\n",
        "transacs"
      ],
      "execution_count": 121,
      "outputs": [
        {
          "output_type": "execute_result",
          "data": {
            "text/plain": [
              "CustomerID\n",
              "12346.0    [MEDIUM CERAMIC TOP STORAGE JAR, MEDIUM CERAMI...\n",
              "12747.0    [GREEN JUICY FRUIT PHOTO FRAME, BLUE JUICY FRU...\n",
              "12748.0    [CREAM SWEETHEART EGG HOLDER, GREEN CHRISTMAS ...\n",
              "12749.0    [FAMILY PHOTO FRAME CORNICE, PHOTO FRAME CORNI...\n",
              "12820.0    [PACK OF 60 PINK PAISLEY CAKE CASES, 72 SWEETH...\n",
              "                                 ...                        \n",
              "18280.0    [WOOD BLACK BOARD ANT WHITE FINISH, RETROSPOT ...\n",
              "18281.0    [ROBOT BIRTHDAY CARD, CARD CIRCUS PARADE, PENN...\n",
              "18282.0    [ANTIQUE CREAM CUTLERY CUPBOARD, FRENCH STYLE ...\n",
              "18283.0    [CHARLOTTE BAG PINK POLKADOT, LUNCH BAG WOODLA...\n",
              "18287.0    [SMALL PURPLE BABUSHKA NOTEBOOK , SMALL RED BA...\n",
              "Name: Description, Length: 3950, dtype: object"
            ]
          },
          "metadata": {
            "tags": []
          },
          "execution_count": 121
        }
      ]
    },
    {
      "cell_type": "code",
      "metadata": {
        "id": "lPiEKEpOnS5u",
        "outputId": "53df86d7-961f-4f47-c5f1-9a3d71ba6231",
        "colab": {
          "base_uri": "https://localhost:8080/"
        }
      },
      "source": [
        "!pip install apyori"
      ],
      "execution_count": 116,
      "outputs": [
        {
          "output_type": "stream",
          "text": [
            "Requirement already satisfied: apyori in /usr/local/lib/python3.6/dist-packages (1.1.2)\n"
          ],
          "name": "stdout"
        }
      ]
    },
    {
      "cell_type": "code",
      "metadata": {
        "id": "sgXNBA706pZp"
      },
      "source": [
        "from apyori import apriori"
      ],
      "execution_count": 117,
      "outputs": []
    },
    {
      "cell_type": "code",
      "metadata": {
        "id": "1IP1cgFW6s53",
        "outputId": "eab304f1-c51b-402e-c657-2097a9b4d106",
        "colab": {
          "base_uri": "https://localhost:8080/"
        }
      },
      "source": [
        "out = list(apriori(transacs, min_support = 0.15, min_confidence = 0.1))\n",
        "out"
      ],
      "execution_count": 129,
      "outputs": [
        {
          "output_type": "execute_result",
          "data": {
            "text/plain": [
              "[RelationRecord(items=frozenset({'ASSORTED COLOUR BIRD ORNAMENT'}), support=0.16278481012658227, ordered_statistics=[OrderedStatistic(items_base=frozenset(), items_add=frozenset({'ASSORTED COLOUR BIRD ORNAMENT'}), confidence=0.16278481012658227, lift=1.0)]),\n",
              " RelationRecord(items=frozenset({\"PAPER CHAIN KIT 50'S CHRISTMAS \"}), support=0.1508860759493671, ordered_statistics=[OrderedStatistic(items_base=frozenset(), items_add=frozenset({\"PAPER CHAIN KIT 50'S CHRISTMAS \"}), confidence=0.1508860759493671, lift=1.0)]),\n",
              " RelationRecord(items=frozenset({'PARTY BUNTING'}), support=0.16683544303797468, ordered_statistics=[OrderedStatistic(items_base=frozenset(), items_add=frozenset({'PARTY BUNTING'}), confidence=0.16683544303797468, lift=1.0)]),\n",
              " RelationRecord(items=frozenset({'REGENCY CAKESTAND 3 TIER'}), support=0.19569620253164557, ordered_statistics=[OrderedStatistic(items_base=frozenset(), items_add=frozenset({'REGENCY CAKESTAND 3 TIER'}), confidence=0.19569620253164557, lift=1.0)]),\n",
              " RelationRecord(items=frozenset({'WHITE HANGING HEART T-LIGHT HOLDER'}), support=0.20835443037974682, ordered_statistics=[OrderedStatistic(items_base=frozenset(), items_add=frozenset({'WHITE HANGING HEART T-LIGHT HOLDER'}), confidence=0.20835443037974682, lift=1.0)])]"
            ]
          },
          "metadata": {
            "tags": []
          },
          "execution_count": 129
        }
      ]
    },
    {
      "cell_type": "markdown",
      "metadata": {
        "id": "4d9C1pOc89M_"
      },
      "source": [
        "คนที่จะซื้อสินค้า {'ASSORTED COLOUR BIRD ORNAMENT'} มีความน่าจะเป็นคือ 0.16278481012658227\n",
        "\n",
        "คนที่จะซื้อสินค้า {'PAPER CHAIN KIT 50'S CHRISTMAS'} มีความน่าจะเป็นคือ 0.1508860759493671 \n",
        "\n",
        "คนที่จะซื้อสินค้า {'PARTY BUNTING'} มีความน่าจะเป็นคือ 0.16683544303797468 \n",
        "\n",
        "คนที่จะซื้อสินค้า {'REGENCY CAKESTAND 3 TIER'} มีความน่าจะเป็นคือ 0.19569620253164557 \n",
        "\n",
        "คนที่จะซื้อสินค้า {'WHITE HANGING HEART T-LIGHT HOLDER'} มีความน่าจะเป็นคือ =0.20835443037974682 \n",
        "\n",
        "และ lift > 1 ทุกคู่ ดังนั้นจะมีโปรโมชั่นให้ ถ้าลูกค้าซื้อสินค้า ดังกล่าวจะได้รับโปรโมชั่น ซื้อ 1 แถม 1"
      ]
    },
    {
      "cell_type": "markdown",
      "metadata": {
        "id": "Ute5TBS8dcOl"
      },
      "source": [
        "#ข้อ 3"
      ]
    },
    {
      "cell_type": "markdown",
      "metadata": {
        "id": "GyudTuCKdex0"
      },
      "source": [
        "- Data is a new oil เปรียบได้ว่า ใครมีน้ำมันเยอะก้รวย เหมือนข้อมูล ใครมีข้อมูลเอะก้รวย\n",
        "- Internet of Things (IOT) คือ \"อินเตอร์เน็ตในทุกสิ่ง\"\n",
        "- Data mining คือ การทำเหมืองข้อมูล ทำเพื่อให้ได้ความรู้ออกมาดูจากแพทเทิร์นที่เกิดซ้ำในองค์ข้อมูล เช่นข้อมูลการวิเคราะห์การซื้อของในตระกร้า ของซุปเปอร์มาร์เก็ต\n",
        "- Query คือ การค้นคืนข้อมูล\n",
        "- Data integration คือ การรวมข้อมูลโดยการเอา Data จากหลายๆ แหล่งมารวมกัน เช่น การใช้เลขบัตรประชาชนในการเชื่อมข้อมูลเข้าหากัน (จัดให้ข้อมูลเป็น ฟอร์แมทเดียวกัน)\n",
        "- Data Warehouse คือ ที่ๆเก็บข้อมูลที่เอาไว้ตอบโจทย์ทางธุรกิจโจทย์นึง และโชว์ข้อมูลในมุมมองต่างๆ\n",
        "DBA คือ คนที่อยู่ใกล้ชิดกับ DATA มากที่สุด (คนที่สร้างฐานข้อมูล)\n",
        "- Classification คือ ทำนายโดยที่เรารู้ผลในข้อมูลที่เรามีอยู่แล้ว\n",
        "- Clustering คือ เราจะจัดกลุ่มที่มีลักษณะเหมือนกันให้อยู่ด้วยกันโดยที่ไม่รู้ว่าชื่อกลุ่มคืออะไร\n",
        "- Pos Processing - Patern Evaluation การประมาลผลว่าแพทเทิร์นที่เราได้ออกมามีความน่าเชื่อถือมากน้อยแค่ไหน\n",
        "- Patern Selection หลักการในการเลือกแพทเทิร์น\n",
        "- Patern Interpre ... การแปรผลของแพทเทิร์นนั้น\n",
        "- Data Streams คือ ข้อมูลที่มาเรื่อยๆ เก็บเรื่อยๆ เช่น sensor\n",
        "- Times series Data คือ Data ที่มีเวลาเข้ามาเกี่ยวข้อง เช่น หุ้น\n",
        "- Structure Data Data ในรูปแบบ กราฟ เช่น การมีเพื่อนใน Facebook\n",
        "- Spacial Data คือ Data เชิงพื้นที่ เช่น แผนที่ รูปภาพ \\\\ Speciotemporal Data คือ Data ที่เกี่ยวกับทั้งเชิงพื้นที่ และ เวลา เช่น วิดีโอ\n",
        "- Multimedia Data คือ ข้อมูลของ วิดีโอยูทูป ไลฟ์ ต่างๆ\n",
        "- Text Data คือ เป็นข้อมูลที่เป็นข้อความ เช่น คำว่าสถิติ มีคำอธิบายอะไรบ้าง\n",
        "- Data Cube การมองข้อมูลที่มองในมุมมองต่างๆได้\n",
        "- Attribute คือ ส่วนที่ อธิบายถึง Data\n",
        "- Attribute type คือ ลักษณะของ แต่ละ Attribute\n",
        "ตารางใน Data Base มีลักษณะเด่นคือแต่ละตารางจะมีความเชื่อมโยงกัน โดยเวลาจะเชื่อมข้อมูลในแต่ละตารางจะใช้ ID ในการเชื่อม\n",
        "- Key/index ใช้ในการ ชี้/เชื่อม ข้อมูล\n",
        "- cross tab คือ Attribute 2 อันมารวมกัน\n",
        "- Transaction data คือ ตารางที่ไม่มี Attribute\n",
        "- structure data คือ data ที่มีโครงสร้าง หาค่าต่างๆได้\n",
        "- Data object คือ ตัว Data แต่ละตัวใน Data set อาจเรียกว่า record , data point, tuples โดยจะถูกอธิบายด้วย Attribute\n",
        "- Attribute หรือจะเรียกว่า Dimensions , Feature ก้ได้ เป็น Data ในคอลลัมน์ในแนวแกนตั้งที่อธิบายข้อมูลในแต่ละอัน โดยจะมีหลายประเภท เช่น Nominal(แทนข้อมูลด้วยชื่อ) // Binary ข้อมูลที่แทนด้วยสองลักษณะ // Ordinal ข้อมูลที่เรียงลำดับได้ // Numeric ข้อมูลที่เป็นตัวลข โดยข้อมูล numeric สามารถแบ่งออกได้ เช่น interval (ข้อมูลแบบช่วง) ratio (ข้อมูลแบบอัตราส่วน)\n",
        "- Symmetric binary คือข้อมูลที่ไม่สมมาตร Asymmetric binary คือข้อมูลที่ไม่สมมาตร\n",
        "- Discrete Attribute คือ ข้อมูลที่มีความไม่ต่อเนื่อง เป็นจำนวนเต็มไม่อย่างเดียว\n",
        "- Countinous Attribute คือ ข้อมูลที่มีความต่อเนื่อง เช่น เลขทศนิยม"
      ]
    }
  ]
}