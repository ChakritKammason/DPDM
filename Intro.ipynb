{
  "nbformat": 4,
  "nbformat_minor": 0,
  "metadata": {
    "colab": {
      "name": "Intro.ipynb",
      "provenance": [],
      "authorship_tag": "ABX9TyNPry5fChJ/+xJzbt5P8ZEr",
      "include_colab_link": true
    },
    "kernelspec": {
      "name": "python3",
      "display_name": "Python 3"
    }
  },
  "cells": [
    {
      "cell_type": "markdown",
      "metadata": {
        "id": "view-in-github",
        "colab_type": "text"
      },
      "source": [
        "<a href=\"https://colab.research.google.com/github/ChakritKammason/DPDM/blob/master/Intro.ipynb\" target=\"_parent\"><img src=\"https://colab.research.google.com/assets/colab-badge.svg\" alt=\"Open In Colab\"/></a>"
      ]
    },
    {
      "cell_type": "markdown",
      "metadata": {
        "id": "MQFLtKUUyYFW",
        "colab_type": "text"
      },
      "source": [
        "## Introduction\n"
      ]
    },
    {
      "cell_type": "markdown",
      "metadata": {
        "id": "sio2lqxztUM0",
        "colab_type": "text"
      },
      "source": [
        "~~ Introduction\n"
      ]
    },
    {
      "cell_type": "code",
      "metadata": {
        "id": "FPGVQmb0rVq8",
        "colab_type": "code",
        "colab": {
          "base_uri": "https://localhost:8080/",
          "height": 34
        },
        "outputId": "d53b1cf9-9463-4467-8e01-77790a102dcd"
      },
      "source": [
        "print( \"Chakrit Kammason 625020039-3\" )\n"
      ],
      "execution_count": 6,
      "outputs": [
        {
          "output_type": "stream",
          "text": [
            "Chakrit Kammason 625020039-3\n"
          ],
          "name": "stdout"
        }
      ]
    }
  ]
}